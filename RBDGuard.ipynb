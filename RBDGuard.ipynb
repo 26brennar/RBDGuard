{
 "cells": [
  {
   "cell_type": "markdown",
   "id": "fdc25516-3e6d-454e-96fc-95f0ecea96bf",
   "metadata": {},
   "source": [
    "Downloading Data from PhysioNet CAP Sleep Database"
   ]
  },
  {
   "cell_type": "code",
   "execution_count": 1,
   "id": "7767ba35-60ff-4e6a-bb5a-6ef2914a249c",
   "metadata": {},
   "outputs": [],
   "source": [
    "import torch\n",
    "from torch import nn\n",
    "from torch.utils.data import DataLoader\n",
    "from torchvision import datasets\n",
    "from torchvision.transforms import ToTensor"
   ]
  },
  {
   "cell_type": "code",
   "execution_count": 2,
   "id": "8e550643-352d-4045-bf2f-48c6e4372028",
   "metadata": {},
   "outputs": [],
   "source": [
    "from pyedflib import highlevel\n",
    "import pyedflib as plib\n",
    "import numpy as np\n",
    "import matplotlib.pyplot as plt\n",
    "import pandas as pd\n",
    "from sklearn.preprocessing import LabelEncoder\n",
    "from tensorflow.keras import layers\n",
    "from tensorflow import keras\n",
    "import tensorflow as tf\n",
    "from sklearn.metrics import accuracy_score, f1_score, classification_report, confusion_matrix, ConfusionMatrixDisplay\n",
    "from tensorflow.keras.models import load_model"
   ]
  },
  {
   "cell_type": "code",
   "execution_count": 5,
   "id": "e6753f4b-d60d-4ac8-a506-c74e98ab5cfd",
   "metadata": {},
   "outputs": [],
   "source": [
    "import neurokit2 as nk"
   ]
  },
  {
   "cell_type": "code",
   "execution_count": 7,
   "id": "8bd58822-90fa-42c3-8d14-338d836bf6f9",
   "metadata": {},
   "outputs": [],
   "source": [
    "import os\n",
    "import csv"
   ]
  },
  {
   "cell_type": "code",
   "execution_count": 119,
   "id": "98a25189-c109-43b9-8901-fe06a1d86924",
   "metadata": {},
   "outputs": [
    {
     "name": "stdout",
     "output_type": "stream",
     "text": [
      "276960\n",
      "Done with n1.edf\n",
      "235200\n",
      "Done with n10.edf\n",
      "252960\n",
      "Done with n11.edf\n",
      "OS error: F:\\Research\\capslpdb\\n12.edf\n",
      "252960\n",
      "Done with n12.edf\n",
      "OS error: F:\\Research\\capslpdb\\n13.edf\n",
      "252960\n",
      "Done with n13.edf\n",
      "OS error: F:\\Research\\capslpdb\\n14.edf\n",
      "252960\n",
      "Done with n14.edf\n",
      "will be ignored.\n",
      "will be ignored.\n",
      "Index error: F:\\Research\\capslpdb\\n15.edf\n",
      "Done with n15.edf\n",
      "will be ignored.\n",
      "will be ignored.\n",
      "Index error: F:\\Research\\capslpdb\\n16.edf\n",
      "Done with n16.edf\n"
     ]
    },
    {
     "name": "stderr",
     "output_type": "stream",
     "text": [
      "C:\\Users\\Gang Ren\\anaconda3\\Lib\\site-packages\\pyedflib\\highlevel.py:368: UserWarning: ECG1-ECG2 is not in source file (contains ['EOG-L', 'EOG-R', 'CHIN1', 'CHIN2', 'F3A2', 'F4A1', 'C3A2', 'C4A1', 'O1A2', 'O2A1', 'EKG'])\n",
      "  warnings.warn('{} is not in source file (contains {})'\\\n",
      "C:\\Users\\Gang Ren\\anaconda3\\Lib\\site-packages\\pyedflib\\highlevel.py:368: UserWarning: ECG is not in source file (contains ['EOG-L', 'EOG-R', 'CHIN1', 'CHIN2', 'F3A2', 'F4A1', 'C3A2', 'C4A1', 'O1A2', 'O2A1', 'EKG'])\n",
      "  warnings.warn('{} is not in source file (contains {})'\\\n",
      "C:\\Users\\Gang Ren\\anaconda3\\Lib\\site-packages\\pyedflib\\highlevel.py:368: UserWarning: ECG1-ECG2 is not in source file (contains ['FP2-F4', 'F4-C4', 'C4-P4', 'P4-O2', 'C4-A1'])\n",
      "  warnings.warn('{} is not in source file (contains {})'\\\n",
      "C:\\Users\\Gang Ren\\anaconda3\\Lib\\site-packages\\pyedflib\\highlevel.py:368: UserWarning: ECG is not in source file (contains ['FP2-F4', 'F4-C4', 'C4-P4', 'P4-O2', 'C4-A1'])\n",
      "  warnings.warn('{} is not in source file (contains {})'\\\n"
     ]
    },
    {
     "name": "stdout",
     "output_type": "stream",
     "text": [
      "352800\n",
      "Done with n2.edf\n",
      "264488\n",
      "Done with n3.edf\n",
      "will be ignored.\n",
      "will be ignored.\n",
      "Index error: F:\\Research\\capslpdb\\n4.edf\n",
      "Done with n4.edf\n"
     ]
    },
    {
     "name": "stderr",
     "output_type": "stream",
     "text": [
      "C:\\Users\\Gang Ren\\anaconda3\\Lib\\site-packages\\pyedflib\\highlevel.py:368: UserWarning: ECG1-ECG2 is not in source file (contains ['EOG DX', 'FP2-F4', 'F4-C4', 'C4-P4', 'P4-O2', 'C4-A1', 'MILO', 'EOG SIN', 'TIB DX', 'TIB SIN', 'CANNULA', 'TORACICO', 'EKG', 'DELTOIDE', 'HEART RATE VARIA', 'FLATTENING', 'FLOW'])\n",
      "  warnings.warn('{} is not in source file (contains {})'\\\n",
      "C:\\Users\\Gang Ren\\anaconda3\\Lib\\site-packages\\pyedflib\\highlevel.py:368: UserWarning: ECG is not in source file (contains ['EOG DX', 'FP2-F4', 'F4-C4', 'C4-P4', 'P4-O2', 'C4-A1', 'MILO', 'EOG SIN', 'TIB DX', 'TIB SIN', 'CANNULA', 'TORACICO', 'EKG', 'DELTOIDE', 'HEART RATE VARIA', 'FLATTENING', 'FLOW'])\n",
      "  warnings.warn('{} is not in source file (contains {})'\\\n",
      "C:\\Users\\Gang Ren\\anaconda3\\Lib\\site-packages\\pyedflib\\highlevel.py:368: UserWarning: ECG1-ECG2 is not in source file (contains ['LOC-A1', 'ROC-A2', 'EMG-EMG', 'C3-A2', 'O2-A1', 'ECG', 'TAG', 'THE'])\n",
      "  warnings.warn('{} is not in source file (contains {})'\\\n"
     ]
    },
    {
     "name": "stdout",
     "output_type": "stream",
     "text": [
      "251528\n",
      "Done with n5.edf\n",
      "will be ignored.\n",
      "253000\n",
      "Done with n6.edf\n",
      "will be ignored.\n"
     ]
    },
    {
     "name": "stderr",
     "output_type": "stream",
     "text": [
      "C:\\Users\\Gang Ren\\anaconda3\\Lib\\site-packages\\pyedflib\\highlevel.py:368: UserWarning: ECG1-ECG2 is not in source file (contains ['LOC-A1', 'ROC-A2', 'EMG-EMG', 'C3-A2', 'O2-A1', 'ECG', 'TAG', 'THE'])\n",
      "  warnings.warn('{} is not in source file (contains {})'\\\n",
      "C:\\Users\\Gang Ren\\anaconda3\\Lib\\site-packages\\pyedflib\\highlevel.py:368: UserWarning: ECG1-ECG2 is not in source file (contains ['C3-A2', 'C4-P4', 'EKG', 'EOG-L', 'EOG-R', 'F4-C4', 'FP2-F4', 'P4-O2', 'TIB DX', 'TIB SX', 'ABDOMEN', 'FLOW', 'MILO', 'THORAX'])\n",
      "  warnings.warn('{} is not in source file (contains {})'\\\n",
      "C:\\Users\\Gang Ren\\anaconda3\\Lib\\site-packages\\pyedflib\\highlevel.py:368: UserWarning: ECG is not in source file (contains ['C3-A2', 'C4-P4', 'EKG', 'EOG-L', 'EOG-R', 'F4-C4', 'FP2-F4', 'P4-O2', 'TIB DX', 'TIB SX', 'ABDOMEN', 'FLOW', 'MILO', 'THORAX'])\n",
      "  warnings.warn('{} is not in source file (contains {})'\\\n",
      "C:\\Users\\Gang Ren\\anaconda3\\Lib\\site-packages\\pyedflib\\highlevel.py:368: UserWarning: ECG1-ECG2 is not in source file (contains ['LOC-A1', 'ROC-A2', 'EMG', 'C3-A2', 'O2-A1', 'ECG', 'TAG', 'THE'])\n",
      "  warnings.warn('{} is not in source file (contains {})'\\\n"
     ]
    },
    {
     "name": "stdout",
     "output_type": "stream",
     "text": [
      "236320\n",
      "Done with n7.edf\n",
      "will be ignored.\n",
      "will be ignored.\n",
      "Index error: F:\\Research\\capslpdb\\n8.edf\n",
      "Done with n8.edf\n",
      "will be ignored.\n",
      "255528\n",
      "Done with n9.edf\n",
      "242168\n",
      "Done with rbd1.edf\n",
      "205928\n",
      "Done with rbd10.edf\n",
      "205928\n",
      "Done with rbd11.edf\n",
      "257528\n",
      "Done with rbd12.edf\n",
      "250320\n",
      "Done with rbd13.edf\n",
      "267848\n",
      "Done with rbd14.edf\n",
      "407288\n",
      "Done with rbd15.edf\n",
      "OS error: F:\\Research\\capslpdb\\rbd16.edf\n",
      "407288\n",
      "Done with rbd16.edf\n",
      "250568\n",
      "Done with rbd17.edf\n",
      "264000\n",
      "Done with rbd18.edf\n",
      "275760\n",
      "Done with rbd19.edf\n",
      "286560\n",
      "Done with rbd2.edf\n",
      "243128\n",
      "Done with rbd20.edf\n",
      "242880\n",
      "Done with rbd21.edf\n",
      "282960\n",
      "Done with rbd22.edf\n",
      "290400\n",
      "Done with rbd3.edf\n",
      "412328\n",
      "Done with rbd4.edf\n",
      "278400\n",
      "Done with rbd5.edf\n",
      "436800\n",
      "Done with rbd6.edf\n",
      "252968\n",
      "Done with rbd7.edf\n",
      "257768\n",
      "Done with rbd8.edf\n",
      "283688\n",
      "Done with rbd9.edf\n",
      "1428\n"
     ]
    }
   ],
   "source": [
    "## FOR LABELED DATA:\n",
    "\n",
    "root_directory_path = \"F:\\\\Research\\\\capslpdb\"\n",
    "\n",
    "# File path for the pickle file\n",
    "pickle_file_path = \"C:\\\\Users\\\\Gang Ren\\\\Research\\\\capslpdb_cleaned_ECG_data_30s.pk1.gz\"\n",
    "# pickle_file_path_train = \"C:\\\\Users\\\\Gang Ren\\\\Research\\\\capslpdb_cleaned_ECG_data_30s_train.pk1.gz\"\n",
    "# pickle_file_path_test = \"C:\\\\Users\\\\Gang Ren\\\\Research\\\\capslpdb_cleaned_ECG_data_30s_test.pk1.gz\"\n",
    "\n",
    "master_df = pd.DataFrame({})\n",
    "# train_df = pd.DataFrame({})\n",
    "# test_df = pd.DataFrame({})\n",
    "\n",
    "n_count = 0\n",
    "rbd_count = 0\n",
    "# Iterate over files in directory\n",
    "for name in os.listdir(root_directory_path):\n",
    "    # if count > 0:\n",
    "    #     break\n",
    "\n",
    "    if name.endswith(\".edf\") == False:\n",
    "        continue\n",
    "    \n",
    "    if name.startswith(\"rbd\"):\n",
    "        label = -1\n",
    "    elif name.startswith(\"n\") and name.startswith(\"nfle\") == False and name.startswith(\"narco\") == False:\n",
    "        label = 1\n",
    "    else:\n",
    "        continue\n",
    "    \n",
    "    # Open file\n",
    "    file_path = os.path.join(root_directory_path, name);\n",
    "    try:\n",
    "        signals, signal_headers, header = highlevel.read_edf(file_path, ch_names=\"ECG1-ECG2\")\n",
    "        if (len(signals) == 0):\n",
    "            signals, signal_headers, header = highlevel.read_edf(file_path, ch_names=\"ECG\")\n",
    "    except OSError as err:\n",
    "        print(\"OS error: \" + file_path)\n",
    "\n",
    "    # Calculate the factor by which to downsample\n",
    "    try:\n",
    "        factor = (int) (signal_headers[0]['sample_frequency'] // 8.0)\n",
    "    except IndexError as err:\n",
    "        print (\"Index error: \" + file_path)\n",
    "    else:\n",
    "        downsampled = signals[0].reshape(-1, factor).mean(axis=1)\n",
    "        print(len(downsampled))\n",
    "        for i in range(10000, 20000, 240):\n",
    "            downsampled_slice = downsampled[i:i+240] ## 240 samples, 30 s\n",
    "            cleaned = nk.ecg_clean(downsampled_slice, sampling_rate=8.0, method=\"neurokit\")\n",
    "            cleaned_with_label = np.insert(cleaned, 0, label)\n",
    "            df = pd.DataFrame({name : cleaned_with_label}).T\n",
    "\n",
    "            # ## 80/20 Train/Test split; using 20 rbd patients, 10 normal patients\n",
    "            # if label == -1:\n",
    "            #     if rbd_count < 16:\n",
    "            #         train_df = pd.concat([train_df, df])\n",
    "            #     elif rbd_count < 20:\n",
    "            #         test_df = pd.concat([test_df, df])\n",
    "            # else:\n",
    "            #     if n_count < 8:\n",
    "            #         train_df = pd.concat([train_df, df])\n",
    "            #     elif n_count < 10:\n",
    "            #         test_df = pd.concat([test_df, df])\n",
    "            master_df = pd.concat([master_df, df])\n",
    "\n",
    "        if label == -1:\n",
    "            rbd_count += 1\n",
    "        else:\n",
    "            n_count += 1\n",
    "\n",
    "    print (\"Done with \" + name)\n",
    "    # count += 1\n",
    "\n",
    "# print(len(train_df))\n",
    "# print(len(test_df))\n",
    "# train_df.to_pickle(pickle_file_path_train)\n",
    "# test_df.to_pickle(pickle_file_path_test)\n",
    "print(len(master_df))\n",
    "master_df.to_pickle(pickle_file_path, compression=\"gzip\")"
   ]
  },
  {
   "cell_type": "code",
   "execution_count": 121,
   "id": "16f4a514-da8b-4490-8989-121b6172afab",
   "metadata": {},
   "outputs": [
    {
     "name": "stdout",
     "output_type": "stream",
     "text": [
      "                            0         1         2         3         4    \\\n",
      "cfs-visit5-800002.edf  0.000074 -0.028981 -0.049784 -0.005078 -0.002584   \n",
      "cfs-visit5-800002.edf -0.001837  0.017391 -0.013255 -0.036125  0.005061   \n",
      "cfs-visit5-800002.edf -0.001040 -0.077346 -0.053075 -0.040486 -0.032188   \n",
      "\n",
      "                            5         6         7         8         9    ...  \\\n",
      "cfs-visit5-800002.edf -0.031712 -0.008000  0.030318  0.049298  0.006912  ...   \n",
      "cfs-visit5-800002.edf  0.010105 -0.011737  0.007990  0.034885  0.018030  ...   \n",
      "cfs-visit5-800002.edf  0.008073  0.044934  0.044089  0.007077 -0.011089  ...   \n",
      "\n",
      "                            230       231       232       233       234  \\\n",
      "cfs-visit5-800002.edf  0.009307  0.030873  0.012055  0.021115  0.035617   \n",
      "cfs-visit5-800002.edf  0.009746  0.028621  0.046287  0.005186 -0.041265   \n",
      "cfs-visit5-800002.edf  0.023736  0.048490  0.004464 -0.037856  0.006438   \n",
      "\n",
      "                            235       236       237       238       239  \n",
      "cfs-visit5-800002.edf -0.009996 -0.058982 -0.038784 -0.028165 -0.006902  \n",
      "cfs-visit5-800002.edf -0.025622 -0.033684 -0.055883 -0.035140 -0.004721  \n",
      "cfs-visit5-800002.edf  0.002799 -0.048566 -0.039418 -0.007681  0.004987  \n",
      "\n",
      "[3 rows x 240 columns]\n"
     ]
    }
   ],
   "source": [
    "# to read back\n",
    "unlabeled_df = pd.read_pickle(\"C:\\\\Users\\\\Gang Ren\\\\Research\\\\CFS_cleaned_ECG_data_30s_all.pkl.gz\")\n",
    "\n",
    "print(unlabeled_df.head(3))\n",
    "\n",
    "unlabeled_x_train = unlabeled_df.values"
   ]
  },
  {
   "cell_type": "code",
   "execution_count": 13,
   "id": "e362473a-4013-4d28-90e5-5da0cb13a7b5",
   "metadata": {},
   "outputs": [],
   "source": [
    "# reshape X so that it can pass through LSTM layer\n",
    "unlabeled_x_train = unlabeled_x_train.reshape(unlabeled_x_train.shape[0], unlabeled_x_train.shape[1], 1)"
   ]
  },
  {
   "cell_type": "code",
   "execution_count": 15,
   "id": "e39a1a87-d64d-4407-9f17-5aae0ea5b7d4",
   "metadata": {},
   "outputs": [],
   "source": [
    "class LSTMEncoderDecoder(keras.models.Model):\n",
    "    def __init__(self):\n",
    "        super(LSTMEncoderDecoder, self).__init__()\n",
    "        self.encoder = tf.keras.Sequential([\n",
    "            layers.Input((240, 1)),  # Define input shape here\n",
    "            layers.Bidirectional(layers.LSTM(64, return_sequences=True, dropout=0.2), name='Bi-LSTM1'), ## Change for different input sizes\n",
    "            layers.Bidirectional(layers.LSTM(32, dropout=0.2), name='Bi-LSTM2')])\n",
    "        \n",
    "        self.decoder = tf.keras.Sequential([\n",
    "            #layers.Input(shape=(32 * 2,)),  # Adjust based on encoder output\n",
    "            layers.RepeatVector(240), # Change for different inputs\n",
    "            layers.Bidirectional(layers.LSTM(32, return_sequences=True, dropout=0.2), name='Bi-LSTM3'),\n",
    "            layers.Bidirectional(layers.LSTM(64, return_sequences=True, dropout=0.2), name='Bi-LSTM4'),\n",
    "            layers.TimeDistributed(layers.Dense(1))])\n",
    "        \n",
    "    def call(self, x):\n",
    "        encoded = self.encoder(x)\n",
    "        decoded = self.decoder(encoded)\n",
    "        return decoded"
   ]
  },
  {
   "cell_type": "code",
   "execution_count": 17,
   "id": "ff33926c-d749-4d30-b660-1890539a40dc",
   "metadata": {},
   "outputs": [],
   "source": [
    "def plot_history(history, loss=True, validation=False):\n",
    "    if loss:\n",
    "        plt.plot(history.history[\"loss\"], label=\"Training Loss\")\n",
    "        if validation:\n",
    "            plt.plot(history.history[\"val_loss\"], label=\"Validation Loss\") \n",
    "        plt.legend()\n",
    "        plt.xlabel('Epoch')\n",
    "        plt.ylabel('Loss')\n",
    "        plt.show()\n",
    "    else:\n",
    "        plt.plot(history.history[\"accuracy\"], label=\"Training Accuracy\")\n",
    "        if validation:\n",
    "            plt.plot(history.history[\"val_accuracy\"], label=\"Validation Accuracy\") \n",
    "        plt.legend()\n",
    "        plt.xlabel('Epoch')\n",
    "        plt.ylabel('Accuracy')\n",
    "        plt.show()"
   ]
  },
  {
   "cell_type": "code",
   "execution_count": 19,
   "id": "7c8c2d83-77dc-4633-a835-a369c4ada3f1",
   "metadata": {},
   "outputs": [],
   "source": [
    "autoencoder = LSTMEncoderDecoder()\n",
    "autoencoder.compile(optimizer='adam', loss='mse')"
   ]
  },
  {
   "cell_type": "code",
   "execution_count": 21,
   "id": "72952c55-9df5-412c-b7e1-1bd665b3c11a",
   "metadata": {},
   "outputs": [
    {
     "name": "stdout",
     "output_type": "stream",
     "text": [
      "Epoch 1/50\n",
      "\u001b[1m3303/3303\u001b[0m \u001b[32m━━━━━━━━━━━━━━━━━━━━\u001b[0m\u001b[37m\u001b[0m \u001b[1m688s\u001b[0m 200ms/step - loss: 0.0068\n",
      "Epoch 2/50\n",
      "\u001b[1m3303/3303\u001b[0m \u001b[32m━━━━━━━━━━━━━━━━━━━━\u001b[0m\u001b[37m\u001b[0m \u001b[1m643s\u001b[0m 195ms/step - loss: 0.0062\n",
      "Epoch 3/50\n",
      "\u001b[1m3303/3303\u001b[0m \u001b[32m━━━━━━━━━━━━━━━━━━━━\u001b[0m\u001b[37m\u001b[0m \u001b[1m638s\u001b[0m 193ms/step - loss: 0.0057\n",
      "Epoch 4/50\n",
      "\u001b[1m3303/3303\u001b[0m \u001b[32m━━━━━━━━━━━━━━━━━━━━\u001b[0m\u001b[37m\u001b[0m \u001b[1m634s\u001b[0m 192ms/step - loss: 0.0057\n",
      "Epoch 5/50\n",
      "\u001b[1m3303/3303\u001b[0m \u001b[32m━━━━━━━━━━━━━━━━━━━━\u001b[0m\u001b[37m\u001b[0m \u001b[1m637s\u001b[0m 193ms/step - loss: 0.0058\n",
      "Epoch 6/50\n",
      "\u001b[1m3303/3303\u001b[0m \u001b[32m━━━━━━━━━━━━━━━━━━━━\u001b[0m\u001b[37m\u001b[0m \u001b[1m636s\u001b[0m 192ms/step - loss: 0.0056\n",
      "Epoch 7/50\n",
      "\u001b[1m3303/3303\u001b[0m \u001b[32m━━━━━━━━━━━━━━━━━━━━\u001b[0m\u001b[37m\u001b[0m \u001b[1m638s\u001b[0m 193ms/step - loss: 0.0055\n",
      "Epoch 8/50\n",
      "\u001b[1m3303/3303\u001b[0m \u001b[32m━━━━━━━━━━━━━━━━━━━━\u001b[0m\u001b[37m\u001b[0m \u001b[1m641s\u001b[0m 194ms/step - loss: 0.0055\n",
      "Epoch 9/50\n",
      "\u001b[1m3303/3303\u001b[0m \u001b[32m━━━━━━━━━━━━━━━━━━━━\u001b[0m\u001b[37m\u001b[0m \u001b[1m636s\u001b[0m 192ms/step - loss: 0.0053\n",
      "Epoch 10/50\n",
      "\u001b[1m3303/3303\u001b[0m \u001b[32m━━━━━━━━━━━━━━━━━━━━\u001b[0m\u001b[37m\u001b[0m \u001b[1m635s\u001b[0m 192ms/step - loss: 0.0056\n",
      "Epoch 11/50\n",
      "\u001b[1m3303/3303\u001b[0m \u001b[32m━━━━━━━━━━━━━━━━━━━━\u001b[0m\u001b[37m\u001b[0m \u001b[1m631s\u001b[0m 191ms/step - loss: 0.0056\n",
      "Epoch 12/50\n",
      "\u001b[1m3303/3303\u001b[0m \u001b[32m━━━━━━━━━━━━━━━━━━━━\u001b[0m\u001b[37m\u001b[0m \u001b[1m639s\u001b[0m 193ms/step - loss: 0.0052\n",
      "Epoch 13/50\n",
      "\u001b[1m3303/3303\u001b[0m \u001b[32m━━━━━━━━━━━━━━━━━━━━\u001b[0m\u001b[37m\u001b[0m \u001b[1m632s\u001b[0m 191ms/step - loss: 0.0052\n",
      "Epoch 14/50\n",
      "\u001b[1m3303/3303\u001b[0m \u001b[32m━━━━━━━━━━━━━━━━━━━━\u001b[0m\u001b[37m\u001b[0m \u001b[1m637s\u001b[0m 193ms/step - loss: 0.0051\n",
      "Epoch 15/50\n",
      "\u001b[1m3303/3303\u001b[0m \u001b[32m━━━━━━━━━━━━━━━━━━━━\u001b[0m\u001b[37m\u001b[0m \u001b[1m634s\u001b[0m 192ms/step - loss: 0.0051\n",
      "Epoch 16/50\n",
      "\u001b[1m3303/3303\u001b[0m \u001b[32m━━━━━━━━━━━━━━━━━━━━\u001b[0m\u001b[37m\u001b[0m \u001b[1m652s\u001b[0m 197ms/step - loss: 0.0048\n",
      "Epoch 17/50\n",
      "\u001b[1m3303/3303\u001b[0m \u001b[32m━━━━━━━━━━━━━━━━━━━━\u001b[0m\u001b[37m\u001b[0m \u001b[1m643s\u001b[0m 195ms/step - loss: 0.0050\n",
      "Epoch 18/50\n",
      "\u001b[1m3303/3303\u001b[0m \u001b[32m━━━━━━━━━━━━━━━━━━━━\u001b[0m\u001b[37m\u001b[0m \u001b[1m638s\u001b[0m 193ms/step - loss: 0.0049\n",
      "Epoch 19/50\n",
      "\u001b[1m3303/3303\u001b[0m \u001b[32m━━━━━━━━━━━━━━━━━━━━\u001b[0m\u001b[37m\u001b[0m \u001b[1m634s\u001b[0m 192ms/step - loss: 0.0048\n",
      "Epoch 20/50\n",
      "\u001b[1m3303/3303\u001b[0m \u001b[32m━━━━━━━━━━━━━━━━━━━━\u001b[0m\u001b[37m\u001b[0m \u001b[1m656s\u001b[0m 199ms/step - loss: 0.0049\n",
      "Epoch 21/50\n",
      "\u001b[1m3303/3303\u001b[0m \u001b[32m━━━━━━━━━━━━━━━━━━━━\u001b[0m\u001b[37m\u001b[0m \u001b[1m636s\u001b[0m 193ms/step - loss: 0.0049\n",
      "Epoch 22/50\n",
      "\u001b[1m3303/3303\u001b[0m \u001b[32m━━━━━━━━━━━━━━━━━━━━\u001b[0m\u001b[37m\u001b[0m \u001b[1m641s\u001b[0m 194ms/step - loss: 0.0048\n",
      "Epoch 23/50\n",
      "\u001b[1m3303/3303\u001b[0m \u001b[32m━━━━━━━━━━━━━━━━━━━━\u001b[0m\u001b[37m\u001b[0m \u001b[1m640s\u001b[0m 194ms/step - loss: 0.0047\n",
      "Epoch 24/50\n",
      "\u001b[1m3303/3303\u001b[0m \u001b[32m━━━━━━━━━━━━━━━━━━━━\u001b[0m\u001b[37m\u001b[0m \u001b[1m645s\u001b[0m 195ms/step - loss: 0.0048\n",
      "Epoch 25/50\n",
      "\u001b[1m3303/3303\u001b[0m \u001b[32m━━━━━━━━━━━━━━━━━━━━\u001b[0m\u001b[37m\u001b[0m \u001b[1m636s\u001b[0m 193ms/step - loss: 0.0046\n",
      "Epoch 26/50\n",
      "\u001b[1m3303/3303\u001b[0m \u001b[32m━━━━━━━━━━━━━━━━━━━━\u001b[0m\u001b[37m\u001b[0m \u001b[1m643s\u001b[0m 195ms/step - loss: 0.0044\n",
      "Epoch 27/50\n",
      "\u001b[1m3303/3303\u001b[0m \u001b[32m━━━━━━━━━━━━━━━━━━━━\u001b[0m\u001b[37m\u001b[0m \u001b[1m644s\u001b[0m 195ms/step - loss: 0.0045\n",
      "Epoch 28/50\n",
      "\u001b[1m3303/3303\u001b[0m \u001b[32m━━━━━━━━━━━━━━━━━━━━\u001b[0m\u001b[37m\u001b[0m \u001b[1m641s\u001b[0m 194ms/step - loss: 0.0044\n",
      "Epoch 29/50\n",
      "\u001b[1m3303/3303\u001b[0m \u001b[32m━━━━━━━━━━━━━━━━━━━━\u001b[0m\u001b[37m\u001b[0m \u001b[1m654s\u001b[0m 198ms/step - loss: 0.0043\n",
      "Epoch 30/50\n",
      "\u001b[1m3303/3303\u001b[0m \u001b[32m━━━━━━━━━━━━━━━━━━━━\u001b[0m\u001b[37m\u001b[0m \u001b[1m658s\u001b[0m 199ms/step - loss: 0.0043\n",
      "Epoch 31/50\n",
      "\u001b[1m3303/3303\u001b[0m \u001b[32m━━━━━━━━━━━━━━━━━━━━\u001b[0m\u001b[37m\u001b[0m \u001b[1m639s\u001b[0m 194ms/step - loss: 0.0042\n",
      "Epoch 32/50\n",
      "\u001b[1m3303/3303\u001b[0m \u001b[32m━━━━━━━━━━━━━━━━━━━━\u001b[0m\u001b[37m\u001b[0m \u001b[1m643s\u001b[0m 195ms/step - loss: 0.0042\n",
      "Epoch 33/50\n",
      "\u001b[1m3303/3303\u001b[0m \u001b[32m━━━━━━━━━━━━━━━━━━━━\u001b[0m\u001b[37m\u001b[0m \u001b[1m638s\u001b[0m 193ms/step - loss: 0.0041\n",
      "Epoch 34/50\n",
      "\u001b[1m3303/3303\u001b[0m \u001b[32m━━━━━━━━━━━━━━━━━━━━\u001b[0m\u001b[37m\u001b[0m \u001b[1m652s\u001b[0m 197ms/step - loss: 0.0040\n",
      "Epoch 35/50\n",
      "\u001b[1m3303/3303\u001b[0m \u001b[32m━━━━━━━━━━━━━━━━━━━━\u001b[0m\u001b[37m\u001b[0m \u001b[1m656s\u001b[0m 198ms/step - loss: 0.0039\n",
      "Epoch 36/50\n",
      "\u001b[1m3303/3303\u001b[0m \u001b[32m━━━━━━━━━━━━━━━━━━━━\u001b[0m\u001b[37m\u001b[0m \u001b[1m661s\u001b[0m 200ms/step - loss: 0.0038\n",
      "Epoch 37/50\n",
      "\u001b[1m3303/3303\u001b[0m \u001b[32m━━━━━━━━━━━━━━━━━━━━\u001b[0m\u001b[37m\u001b[0m \u001b[1m646s\u001b[0m 196ms/step - loss: 0.0039\n",
      "Epoch 38/50\n",
      "\u001b[1m3303/3303\u001b[0m \u001b[32m━━━━━━━━━━━━━━━━━━━━\u001b[0m\u001b[37m\u001b[0m \u001b[1m648s\u001b[0m 196ms/step - loss: 0.0039\n",
      "Epoch 39/50\n",
      "\u001b[1m3303/3303\u001b[0m \u001b[32m━━━━━━━━━━━━━━━━━━━━\u001b[0m\u001b[37m\u001b[0m \u001b[1m640s\u001b[0m 194ms/step - loss: 0.0038\n",
      "Epoch 40/50\n",
      "\u001b[1m3303/3303\u001b[0m \u001b[32m━━━━━━━━━━━━━━━━━━━━\u001b[0m\u001b[37m\u001b[0m \u001b[1m648s\u001b[0m 196ms/step - loss: 0.0038\n",
      "Epoch 41/50\n",
      "\u001b[1m3303/3303\u001b[0m \u001b[32m━━━━━━━━━━━━━━━━━━━━\u001b[0m\u001b[37m\u001b[0m \u001b[1m640s\u001b[0m 194ms/step - loss: 0.0037\n",
      "Epoch 42/50\n",
      "\u001b[1m3303/3303\u001b[0m \u001b[32m━━━━━━━━━━━━━━━━━━━━\u001b[0m\u001b[37m\u001b[0m \u001b[1m645s\u001b[0m 195ms/step - loss: 0.0035\n",
      "Epoch 43/50\n",
      "\u001b[1m3303/3303\u001b[0m \u001b[32m━━━━━━━━━━━━━━━━━━━━\u001b[0m\u001b[37m\u001b[0m \u001b[1m642s\u001b[0m 194ms/step - loss: 0.0037\n",
      "Epoch 44/50\n",
      "\u001b[1m3303/3303\u001b[0m \u001b[32m━━━━━━━━━━━━━━━━━━━━\u001b[0m\u001b[37m\u001b[0m \u001b[1m655s\u001b[0m 198ms/step - loss: 0.0036\n",
      "Epoch 45/50\n",
      "\u001b[1m3303/3303\u001b[0m \u001b[32m━━━━━━━━━━━━━━━━━━━━\u001b[0m\u001b[37m\u001b[0m \u001b[1m658s\u001b[0m 199ms/step - loss: 0.0035\n",
      "Epoch 46/50\n",
      "\u001b[1m3303/3303\u001b[0m \u001b[32m━━━━━━━━━━━━━━━━━━━━\u001b[0m\u001b[37m\u001b[0m \u001b[1m650s\u001b[0m 197ms/step - loss: 0.0035\n",
      "Epoch 47/50\n",
      "\u001b[1m3303/3303\u001b[0m \u001b[32m━━━━━━━━━━━━━━━━━━━━\u001b[0m\u001b[37m\u001b[0m \u001b[1m658s\u001b[0m 199ms/step - loss: 0.0035\n",
      "Epoch 48/50\n",
      "\u001b[1m3303/3303\u001b[0m \u001b[32m━━━━━━━━━━━━━━━━━━━━\u001b[0m\u001b[37m\u001b[0m \u001b[1m650s\u001b[0m 197ms/step - loss: 0.0044\n",
      "Epoch 49/50\n",
      "\u001b[1m3303/3303\u001b[0m \u001b[32m━━━━━━━━━━━━━━━━━━━━\u001b[0m\u001b[37m\u001b[0m \u001b[1m645s\u001b[0m 195ms/step - loss: 0.0036\n",
      "Epoch 50/50\n",
      "\u001b[1m3303/3303\u001b[0m \u001b[32m━━━━━━━━━━━━━━━━━━━━\u001b[0m\u001b[37m\u001b[0m \u001b[1m652s\u001b[0m 198ms/step - loss: 0.0035\n"
     ]
    },
    {
     "data": {
      "image/png": "[encoded data removed]",
      "text/plain": [
       "<Figure size 640x480 with 1 Axes>"
      ]
     },
     "metadata": {},
     "output_type": "display_data"
    }
   ],
   "source": [
    "history = autoencoder.fit(unlabeled_x_train, unlabeled_x_train, epochs=50, batch_size=8, verbose=1) # validation_split=0.15, shuffle=True\n",
    "plot_history(history, loss=True, validation=False)"
   ]
  },
  {
   "cell_type": "code",
   "execution_count": 23,
   "id": "fb25b906-8850-48d2-931b-acd1d509b046",
   "metadata": {},
   "outputs": [
    {
     "data": {
      "text/html": [
       "<pre style=\"white-space:pre;overflow-x:auto;line-height:normal;font-family:Menlo,'DejaVu Sans Mono',consolas,'Courier New',monospace\"><span style=\"font-weight: bold\">Model: \"sequential\"</span>\n",
       "</pre>\n"
      ],
      "text/plain": [
       "\u001b[1mModel: \"sequential\"\u001b[0m\n"
      ]
     },
     "metadata": {},
     "output_type": "display_data"
    },
    {
     "data": {
      "text/html": [
       "<pre style=\"white-space:pre;overflow-x:auto;line-height:normal;font-family:Menlo,'DejaVu Sans Mono',consolas,'Courier New',monospace\">┏━━━━━━━━━━━━━━━━━━━━━━━━━━━━━━━━━┳━━━━━━━━━━━━━━━━━━━━━━━━┳━━━━━━━━━━━━━━━┓\n",
       "┃<span style=\"font-weight: bold\"> Layer (type)                    </span>┃<span style=\"font-weight: bold\"> Output Shape           </span>┃<span style=\"font-weight: bold\">       Param # </span>┃\n",
       "┡━━━━━━━━━━━━━━━━━━━━━━━━━━━━━━━━━╇━━━━━━━━━━━━━━━━━━━━━━━━╇━━━━━━━━━━━━━━━┩\n",
       "│ Bi-LSTM1 (<span style=\"color: #0087ff; text-decoration-color: #0087ff\">Bidirectional</span>)        │ (<span style=\"color: #00d7ff; text-decoration-color: #00d7ff\">None</span>, <span style=\"color: #00af00; text-decoration-color: #00af00\">240</span>, <span style=\"color: #00af00; text-decoration-color: #00af00\">128</span>)       │        <span style=\"color: #00af00; text-decoration-color: #00af00\">33,792</span> │\n",
       "├─────────────────────────────────┼────────────────────────┼───────────────┤\n",
       "│ Bi-LSTM2 (<span style=\"color: #0087ff; text-decoration-color: #0087ff\">Bidirectional</span>)        │ (<span style=\"color: #00d7ff; text-decoration-color: #00d7ff\">None</span>, <span style=\"color: #00af00; text-decoration-color: #00af00\">64</span>)             │        <span style=\"color: #00af00; text-decoration-color: #00af00\">41,216</span> │\n",
       "└─────────────────────────────────┴────────────────────────┴───────────────┘\n",
       "</pre>\n"
      ],
      "text/plain": [
       "┏━━━━━━━━━━━━━━━━━━━━━━━━━━━━━━━━━┳━━━━━━━━━━━━━━━━━━━━━━━━┳━━━━━━━━━━━━━━━┓\n",
       "┃\u001b[1m \u001b[0m\u001b[1mLayer (type)                   \u001b[0m\u001b[1m \u001b[0m┃\u001b[1m \u001b[0m\u001b[1mOutput Shape          \u001b[0m\u001b[1m \u001b[0m┃\u001b[1m \u001b[0m\u001b[1m      Param #\u001b[0m\u001b[1m \u001b[0m┃\n",
       "┡━━━━━━━━━━━━━━━━━━━━━━━━━━━━━━━━━╇━━━━━━━━━━━━━━━━━━━━━━━━╇━━━━━━━━━━━━━━━┩\n",
       "│ Bi-LSTM1 (\u001b[38;5;33mBidirectional\u001b[0m)        │ (\u001b[38;5;45mNone\u001b[0m, \u001b[38;5;34m240\u001b[0m, \u001b[38;5;34m128\u001b[0m)       │        \u001b[38;5;34m33,792\u001b[0m │\n",
       "├─────────────────────────────────┼────────────────────────┼───────────────┤\n",
       "│ Bi-LSTM2 (\u001b[38;5;33mBidirectional\u001b[0m)        │ (\u001b[38;5;45mNone\u001b[0m, \u001b[38;5;34m64\u001b[0m)             │        \u001b[38;5;34m41,216\u001b[0m │\n",
       "└─────────────────────────────────┴────────────────────────┴───────────────┘\n"
      ]
     },
     "metadata": {},
     "output_type": "display_data"
    },
    {
     "data": {
      "text/html": [
       "<pre style=\"white-space:pre;overflow-x:auto;line-height:normal;font-family:Menlo,'DejaVu Sans Mono',consolas,'Courier New',monospace\"><span style=\"font-weight: bold\"> Total params: </span><span style=\"color: #00af00; text-decoration-color: #00af00\">75,008</span> (293.00 KB)\n",
       "</pre>\n"
      ],
      "text/plain": [
       "\u001b[1m Total params: \u001b[0m\u001b[38;5;34m75,008\u001b[0m (293.00 KB)\n"
      ]
     },
     "metadata": {},
     "output_type": "display_data"
    },
    {
     "data": {
      "text/html": [
       "<pre style=\"white-space:pre;overflow-x:auto;line-height:normal;font-family:Menlo,'DejaVu Sans Mono',consolas,'Courier New',monospace\"><span style=\"font-weight: bold\"> Trainable params: </span><span style=\"color: #00af00; text-decoration-color: #00af00\">75,008</span> (293.00 KB)\n",
       "</pre>\n"
      ],
      "text/plain": [
       "\u001b[1m Trainable params: \u001b[0m\u001b[38;5;34m75,008\u001b[0m (293.00 KB)\n"
      ]
     },
     "metadata": {},
     "output_type": "display_data"
    },
    {
     "data": {
      "text/html": [
       "<pre style=\"white-space:pre;overflow-x:auto;line-height:normal;font-family:Menlo,'DejaVu Sans Mono',consolas,'Courier New',monospace\"><span style=\"font-weight: bold\"> Non-trainable params: </span><span style=\"color: #00af00; text-decoration-color: #00af00\">0</span> (0.00 B)\n",
       "</pre>\n"
      ],
      "text/plain": [
       "\u001b[1m Non-trainable params: \u001b[0m\u001b[38;5;34m0\u001b[0m (0.00 B)\n"
      ]
     },
     "metadata": {},
     "output_type": "display_data"
    },
    {
     "data": {
      "text/html": [
       "<pre style=\"white-space:pre;overflow-x:auto;line-height:normal;font-family:Menlo,'DejaVu Sans Mono',consolas,'Courier New',monospace\"><span style=\"font-weight: bold\">Model: \"sequential_1\"</span>\n",
       "</pre>\n"
      ],
      "text/plain": [
       "\u001b[1mModel: \"sequential_1\"\u001b[0m\n"
      ]
     },
     "metadata": {},
     "output_type": "display_data"
    },
    {
     "data": {
      "text/html": [
       "<pre style=\"white-space:pre;overflow-x:auto;line-height:normal;font-family:Menlo,'DejaVu Sans Mono',consolas,'Courier New',monospace\">┏━━━━━━━━━━━━━━━━━━━━━━━━━━━━━━━━━┳━━━━━━━━━━━━━━━━━━━━━━━━┳━━━━━━━━━━━━━━━┓\n",
       "┃<span style=\"font-weight: bold\"> Layer (type)                    </span>┃<span style=\"font-weight: bold\"> Output Shape           </span>┃<span style=\"font-weight: bold\">       Param # </span>┃\n",
       "┡━━━━━━━━━━━━━━━━━━━━━━━━━━━━━━━━━╇━━━━━━━━━━━━━━━━━━━━━━━━╇━━━━━━━━━━━━━━━┩\n",
       "│ repeat_vector (<span style=\"color: #0087ff; text-decoration-color: #0087ff\">RepeatVector</span>)    │ (<span style=\"color: #00d7ff; text-decoration-color: #00d7ff\">None</span>, <span style=\"color: #00af00; text-decoration-color: #00af00\">240</span>, <span style=\"color: #00af00; text-decoration-color: #00af00\">64</span>)        │             <span style=\"color: #00af00; text-decoration-color: #00af00\">0</span> │\n",
       "├─────────────────────────────────┼────────────────────────┼───────────────┤\n",
       "│ Bi-LSTM3 (<span style=\"color: #0087ff; text-decoration-color: #0087ff\">Bidirectional</span>)        │ (<span style=\"color: #00d7ff; text-decoration-color: #00d7ff\">None</span>, <span style=\"color: #00af00; text-decoration-color: #00af00\">240</span>, <span style=\"color: #00af00; text-decoration-color: #00af00\">64</span>)        │        <span style=\"color: #00af00; text-decoration-color: #00af00\">24,832</span> │\n",
       "├─────────────────────────────────┼────────────────────────┼───────────────┤\n",
       "│ Bi-LSTM4 (<span style=\"color: #0087ff; text-decoration-color: #0087ff\">Bidirectional</span>)        │ (<span style=\"color: #00d7ff; text-decoration-color: #00d7ff\">None</span>, <span style=\"color: #00af00; text-decoration-color: #00af00\">240</span>, <span style=\"color: #00af00; text-decoration-color: #00af00\">128</span>)       │        <span style=\"color: #00af00; text-decoration-color: #00af00\">66,048</span> │\n",
       "├─────────────────────────────────┼────────────────────────┼───────────────┤\n",
       "│ time_distributed                │ (<span style=\"color: #00d7ff; text-decoration-color: #00d7ff\">None</span>, <span style=\"color: #00af00; text-decoration-color: #00af00\">240</span>, <span style=\"color: #00af00; text-decoration-color: #00af00\">1</span>)         │           <span style=\"color: #00af00; text-decoration-color: #00af00\">129</span> │\n",
       "│ (<span style=\"color: #0087ff; text-decoration-color: #0087ff\">TimeDistributed</span>)               │                        │               │\n",
       "└─────────────────────────────────┴────────────────────────┴───────────────┘\n",
       "</pre>\n"
      ],
      "text/plain": [
       "┏━━━━━━━━━━━━━━━━━━━━━━━━━━━━━━━━━┳━━━━━━━━━━━━━━━━━━━━━━━━┳━━━━━━━━━━━━━━━┓\n",
       "┃\u001b[1m \u001b[0m\u001b[1mLayer (type)                   \u001b[0m\u001b[1m \u001b[0m┃\u001b[1m \u001b[0m\u001b[1mOutput Shape          \u001b[0m\u001b[1m \u001b[0m┃\u001b[1m \u001b[0m\u001b[1m      Param #\u001b[0m\u001b[1m \u001b[0m┃\n",
       "┡━━━━━━━━━━━━━━━━━━━━━━━━━━━━━━━━━╇━━━━━━━━━━━━━━━━━━━━━━━━╇━━━━━━━━━━━━━━━┩\n",
       "│ repeat_vector (\u001b[38;5;33mRepeatVector\u001b[0m)    │ (\u001b[38;5;45mNone\u001b[0m, \u001b[38;5;34m240\u001b[0m, \u001b[38;5;34m64\u001b[0m)        │             \u001b[38;5;34m0\u001b[0m │\n",
       "├─────────────────────────────────┼────────────────────────┼───────────────┤\n",
       "│ Bi-LSTM3 (\u001b[38;5;33mBidirectional\u001b[0m)        │ (\u001b[38;5;45mNone\u001b[0m, \u001b[38;5;34m240\u001b[0m, \u001b[38;5;34m64\u001b[0m)        │        \u001b[38;5;34m24,832\u001b[0m │\n",
       "├─────────────────────────────────┼────────────────────────┼───────────────┤\n",
       "│ Bi-LSTM4 (\u001b[38;5;33mBidirectional\u001b[0m)        │ (\u001b[38;5;45mNone\u001b[0m, \u001b[38;5;34m240\u001b[0m, \u001b[38;5;34m128\u001b[0m)       │        \u001b[38;5;34m66,048\u001b[0m │\n",
       "├─────────────────────────────────┼────────────────────────┼───────────────┤\n",
       "│ time_distributed                │ (\u001b[38;5;45mNone\u001b[0m, \u001b[38;5;34m240\u001b[0m, \u001b[38;5;34m1\u001b[0m)         │           \u001b[38;5;34m129\u001b[0m │\n",
       "│ (\u001b[38;5;33mTimeDistributed\u001b[0m)               │                        │               │\n",
       "└─────────────────────────────────┴────────────────────────┴───────────────┘\n"
      ]
     },
     "metadata": {},
     "output_type": "display_data"
    },
    {
     "data": {
      "text/html": [
       "<pre style=\"white-space:pre;overflow-x:auto;line-height:normal;font-family:Menlo,'DejaVu Sans Mono',consolas,'Courier New',monospace\"><span style=\"font-weight: bold\"> Total params: </span><span style=\"color: #00af00; text-decoration-color: #00af00\">91,009</span> (355.50 KB)\n",
       "</pre>\n"
      ],
      "text/plain": [
       "\u001b[1m Total params: \u001b[0m\u001b[38;5;34m91,009\u001b[0m (355.50 KB)\n"
      ]
     },
     "metadata": {},
     "output_type": "display_data"
    },
    {
     "data": {
      "text/html": [
       "<pre style=\"white-space:pre;overflow-x:auto;line-height:normal;font-family:Menlo,'DejaVu Sans Mono',consolas,'Courier New',monospace\"><span style=\"font-weight: bold\"> Trainable params: </span><span style=\"color: #00af00; text-decoration-color: #00af00\">91,009</span> (355.50 KB)\n",
       "</pre>\n"
      ],
      "text/plain": [
       "\u001b[1m Trainable params: \u001b[0m\u001b[38;5;34m91,009\u001b[0m (355.50 KB)\n"
      ]
     },
     "metadata": {},
     "output_type": "display_data"
    },
    {
     "data": {
      "text/html": [
       "<pre style=\"white-space:pre;overflow-x:auto;line-height:normal;font-family:Menlo,'DejaVu Sans Mono',consolas,'Courier New',monospace\"><span style=\"font-weight: bold\"> Non-trainable params: </span><span style=\"color: #00af00; text-decoration-color: #00af00\">0</span> (0.00 B)\n",
       "</pre>\n"
      ],
      "text/plain": [
       "\u001b[1m Non-trainable params: \u001b[0m\u001b[38;5;34m0\u001b[0m (0.00 B)\n"
      ]
     },
     "metadata": {},
     "output_type": "display_data"
    }
   ],
   "source": [
    "autoencoder.encoder.summary()\n",
    "autoencoder.decoder.summary()"
   ]
  },
  {
   "cell_type": "code",
   "execution_count": 85,
   "id": "28e5ff39-5d13-498b-91fc-7e720c1eed35",
   "metadata": {},
   "outputs": [],
   "source": [
    "x = autoencoder.encoder.layers[-1].output\n",
    "x = layers.Dense(1, activation='sigmoid')(x)\n",
    "predictive_model = keras.Model(autoencoder.encoder.layers[0].input, x)\n",
    "\n",
    "# # Define the model input layer\n",
    "# input_layer = keras.Input(shape=((240,1)))  # Replace input_shape with your input size\n",
    "\n",
    "# # Add layers as per your model's architecture\n",
    "# x = layers.Flatten()(input_layer)\n",
    "# x = layers.Dense(128, activation='relu')(x)  # Example hidden layer\n",
    "# x = layers.Dense(64, activation='relu')(x)  # Another hidden layer\n",
    "# x = layers.Dense(1, activation='sigmoid')(x)  # Output layer for binary classification (sigmoid)\n",
    "\n",
    "# # Create the model\n",
    "# predictive_model = keras.Model(inputs=input_layer, outputs=x)"
   ]
  },
  {
   "cell_type": "code",
   "execution_count": 87,
   "id": "3b521e63-0cf8-4322-9133-841aaa08e5d2",
   "metadata": {},
   "outputs": [
    {
     "data": {
      "text/html": [
       "<pre style=\"white-space:pre;overflow-x:auto;line-height:normal;font-family:Menlo,'DejaVu Sans Mono',consolas,'Courier New',monospace\"><span style=\"font-weight: bold\">Model: \"functional_5\"</span>\n",
       "</pre>\n"
      ],
      "text/plain": [
       "\u001b[1mModel: \"functional_5\"\u001b[0m\n"
      ]
     },
     "metadata": {},
     "output_type": "display_data"
    },
    {
     "data": {
      "text/html": [
       "<pre style=\"white-space:pre;overflow-x:auto;line-height:normal;font-family:Menlo,'DejaVu Sans Mono',consolas,'Courier New',monospace\">┏━━━━━━━━━━━━━━━━━━━━━━━━━━━━━━━━━┳━━━━━━━━━━━━━━━━━━━━━━━━┳━━━━━━━━━━━━━━━┓\n",
       "┃<span style=\"font-weight: bold\"> Layer (type)                    </span>┃<span style=\"font-weight: bold\"> Output Shape           </span>┃<span style=\"font-weight: bold\">       Param # </span>┃\n",
       "┡━━━━━━━━━━━━━━━━━━━━━━━━━━━━━━━━━╇━━━━━━━━━━━━━━━━━━━━━━━━╇━━━━━━━━━━━━━━━┩\n",
       "│ input_layer (<span style=\"color: #0087ff; text-decoration-color: #0087ff\">InputLayer</span>)        │ (<span style=\"color: #00d7ff; text-decoration-color: #00d7ff\">None</span>, <span style=\"color: #00af00; text-decoration-color: #00af00\">240</span>, <span style=\"color: #00af00; text-decoration-color: #00af00\">1</span>)         │             <span style=\"color: #00af00; text-decoration-color: #00af00\">0</span> │\n",
       "├─────────────────────────────────┼────────────────────────┼───────────────┤\n",
       "│ Bi-LSTM1 (<span style=\"color: #0087ff; text-decoration-color: #0087ff\">Bidirectional</span>)        │ (<span style=\"color: #00d7ff; text-decoration-color: #00d7ff\">None</span>, <span style=\"color: #00af00; text-decoration-color: #00af00\">240</span>, <span style=\"color: #00af00; text-decoration-color: #00af00\">128</span>)       │        <span style=\"color: #00af00; text-decoration-color: #00af00\">33,792</span> │\n",
       "├─────────────────────────────────┼────────────────────────┼───────────────┤\n",
       "│ Bi-LSTM2 (<span style=\"color: #0087ff; text-decoration-color: #0087ff\">Bidirectional</span>)        │ (<span style=\"color: #00d7ff; text-decoration-color: #00d7ff\">None</span>, <span style=\"color: #00af00; text-decoration-color: #00af00\">64</span>)             │        <span style=\"color: #00af00; text-decoration-color: #00af00\">41,216</span> │\n",
       "├─────────────────────────────────┼────────────────────────┼───────────────┤\n",
       "│ dense_8 (<span style=\"color: #0087ff; text-decoration-color: #0087ff\">Dense</span>)                 │ (<span style=\"color: #00d7ff; text-decoration-color: #00d7ff\">None</span>, <span style=\"color: #00af00; text-decoration-color: #00af00\">1</span>)              │            <span style=\"color: #00af00; text-decoration-color: #00af00\">65</span> │\n",
       "└─────────────────────────────────┴────────────────────────┴───────────────┘\n",
       "</pre>\n"
      ],
      "text/plain": [
       "┏━━━━━━━━━━━━━━━━━━━━━━━━━━━━━━━━━┳━━━━━━━━━━━━━━━━━━━━━━━━┳━━━━━━━━━━━━━━━┓\n",
       "┃\u001b[1m \u001b[0m\u001b[1mLayer (type)                   \u001b[0m\u001b[1m \u001b[0m┃\u001b[1m \u001b[0m\u001b[1mOutput Shape          \u001b[0m\u001b[1m \u001b[0m┃\u001b[1m \u001b[0m\u001b[1m      Param #\u001b[0m\u001b[1m \u001b[0m┃\n",
       "┡━━━━━━━━━━━━━━━━━━━━━━━━━━━━━━━━━╇━━━━━━━━━━━━━━━━━━━━━━━━╇━━━━━━━━━━━━━━━┩\n",
       "│ input_layer (\u001b[38;5;33mInputLayer\u001b[0m)        │ (\u001b[38;5;45mNone\u001b[0m, \u001b[38;5;34m240\u001b[0m, \u001b[38;5;34m1\u001b[0m)         │             \u001b[38;5;34m0\u001b[0m │\n",
       "├─────────────────────────────────┼────────────────────────┼───────────────┤\n",
       "│ Bi-LSTM1 (\u001b[38;5;33mBidirectional\u001b[0m)        │ (\u001b[38;5;45mNone\u001b[0m, \u001b[38;5;34m240\u001b[0m, \u001b[38;5;34m128\u001b[0m)       │        \u001b[38;5;34m33,792\u001b[0m │\n",
       "├─────────────────────────────────┼────────────────────────┼───────────────┤\n",
       "│ Bi-LSTM2 (\u001b[38;5;33mBidirectional\u001b[0m)        │ (\u001b[38;5;45mNone\u001b[0m, \u001b[38;5;34m64\u001b[0m)             │        \u001b[38;5;34m41,216\u001b[0m │\n",
       "├─────────────────────────────────┼────────────────────────┼───────────────┤\n",
       "│ dense_8 (\u001b[38;5;33mDense\u001b[0m)                 │ (\u001b[38;5;45mNone\u001b[0m, \u001b[38;5;34m1\u001b[0m)              │            \u001b[38;5;34m65\u001b[0m │\n",
       "└─────────────────────────────────┴────────────────────────┴───────────────┘\n"
      ]
     },
     "metadata": {},
     "output_type": "display_data"
    },
    {
     "data": {
      "text/html": [
       "<pre style=\"white-space:pre;overflow-x:auto;line-height:normal;font-family:Menlo,'DejaVu Sans Mono',consolas,'Courier New',monospace\"><span style=\"font-weight: bold\"> Total params: </span><span style=\"color: #00af00; text-decoration-color: #00af00\">75,073</span> (293.25 KB)\n",
       "</pre>\n"
      ],
      "text/plain": [
       "\u001b[1m Total params: \u001b[0m\u001b[38;5;34m75,073\u001b[0m (293.25 KB)\n"
      ]
     },
     "metadata": {},
     "output_type": "display_data"
    },
    {
     "data": {
      "text/html": [
       "<pre style=\"white-space:pre;overflow-x:auto;line-height:normal;font-family:Menlo,'DejaVu Sans Mono',consolas,'Courier New',monospace\"><span style=\"font-weight: bold\"> Trainable params: </span><span style=\"color: #00af00; text-decoration-color: #00af00\">75,073</span> (293.25 KB)\n",
       "</pre>\n"
      ],
      "text/plain": [
       "\u001b[1m Trainable params: \u001b[0m\u001b[38;5;34m75,073\u001b[0m (293.25 KB)\n"
      ]
     },
     "metadata": {},
     "output_type": "display_data"
    },
    {
     "data": {
      "text/html": [
       "<pre style=\"white-space:pre;overflow-x:auto;line-height:normal;font-family:Menlo,'DejaVu Sans Mono',consolas,'Courier New',monospace\"><span style=\"font-weight: bold\"> Non-trainable params: </span><span style=\"color: #00af00; text-decoration-color: #00af00\">0</span> (0.00 B)\n",
       "</pre>\n"
      ],
      "text/plain": [
       "\u001b[1m Non-trainable params: \u001b[0m\u001b[38;5;34m0\u001b[0m (0.00 B)\n"
      ]
     },
     "metadata": {},
     "output_type": "display_data"
    }
   ],
   "source": [
    "predictive_model.summary()"
   ]
  },
  {
   "cell_type": "code",
   "execution_count": 123,
   "id": "15216e27-8963-43ac-acb6-4c037c765901",
   "metadata": {
    "scrolled": true
   },
   "outputs": [
    {
     "name": "stdout",
     "output_type": "stream",
     "text": [
      "Training set size: 998\n",
      "Validation set size: 215\n",
      "Test set size: 215\n",
      "           0         1          2          3          4          5    \\\n",
      "n14.edf    1.0 -0.001019  -0.003989  -0.011144  -0.024367  -0.017848   \n",
      "rbd9.edf  -1.0  0.000464   0.024859   0.028980   0.031372   0.023855   \n",
      "rbd6.edf  -1.0 -0.722292 -19.862607 -33.358756 -41.274398 -29.175022   \n",
      "rbd17.edf -1.0  0.000621   0.022906   0.025419   0.015780  -0.006709   \n",
      "rbd18.edf -1.0 -0.000797  -0.005220   0.029774   0.035110  -0.011650   \n",
      "rbd13.edf -1.0  0.000449  -0.058831  -0.068247  -0.026695   0.005574   \n",
      "rbd13.edf -1.0  0.000742   0.058234   0.064177   0.016494  -0.026175   \n",
      "rbd8.edf  -1.0 -0.001544  -0.016292   0.023226   0.043268   0.031524   \n",
      "rbd14.edf -1.0  0.001104   0.003973  -0.004622  -0.040996  -0.057464   \n",
      "rbd13.edf -1.0  0.001024   0.028950   0.012460   0.027456   0.035821   \n",
      "\n",
      "                 6          7          8         9    ...        231  \\\n",
      "n14.edf     0.009749   0.020341   0.014201  0.008250  ...   0.004141   \n",
      "rbd9.edf    0.008157  -0.016000  -0.033983 -0.022933  ...   0.006406   \n",
      "rbd6.edf   22.367184  51.229533  38.756210  4.564003  ...  12.888734   \n",
      "rbd17.edf  -0.020362  -0.016760  -0.014376  0.004694  ...   0.026007   \n",
      "rbd18.edf  -0.023951  -0.014507  -0.001316  0.019436  ...   0.021158   \n",
      "rbd13.edf   0.041623   0.056487   0.020432 -0.017231  ...   0.045571   \n",
      "rbd13.edf  -0.025179  -0.007409   0.013161  0.003440  ...   0.026239   \n",
      "rbd8.edf    0.018955   0.004439  -0.024901 -0.039482  ...  -0.052660   \n",
      "rbd14.edf  -0.017914   0.005491   0.013317  0.035260  ...   0.000996   \n",
      "rbd13.edf  -0.005431  -0.034480  -0.030172 -0.015190  ...  -0.001907   \n",
      "\n",
      "                 232        233        234       235        236        237  \\\n",
      "n14.edf     0.022283   0.017482   0.006583  0.001108  -0.007853  -0.022520   \n",
      "rbd9.edf   -0.022204  -0.035561  -0.017733 -0.005606   0.015313   0.039493   \n",
      "rbd6.edf   50.861986  45.549225  20.583386 -7.996941 -32.133533 -47.381663   \n",
      "rbd17.edf   0.017108  -0.005672  -0.020452 -0.017816  -0.015537   0.003473   \n",
      "rbd18.edf  -0.000552  -0.026164  -0.026224 -0.014278   0.022839   0.049818   \n",
      "rbd13.edf   0.020038  -0.002190   0.016175  0.000155  -0.002691   0.013379   \n",
      "rbd13.edf   0.040514   0.011197  -0.024251 -0.024398   0.000239   0.014040   \n",
      "rbd8.edf   -0.049522  -0.008840   0.023594  0.025598   0.026022   0.026006   \n",
      "rbd14.edf  -0.031688  -0.059488  -0.026953  0.005102   0.026990   0.046763   \n",
      "rbd13.edf   0.006643   0.029708   0.042069  0.000555  -0.040393  -0.036872   \n",
      "\n",
      "                 238       239       240  \n",
      "n14.edf    -0.011965  0.003848 -0.001438  \n",
      "rbd9.edf    0.045793  0.036014  0.001205  \n",
      "rbd6.edf  -37.041549 -1.792789 -1.539197  \n",
      "rbd17.edf   0.019447  0.014180  0.004502  \n",
      "rbd18.edf   0.020898 -0.001018  0.005364  \n",
      "rbd13.edf  -0.021744 -0.051449  0.003411  \n",
      "rbd13.edf  -0.017710 -0.046132  0.005319  \n",
      "rbd8.edf    0.036535  0.046031  0.011934  \n",
      "rbd14.edf   0.043893  0.027267 -0.005998  \n",
      "rbd13.edf  -0.006050  0.019524 -0.002238  \n",
      "\n",
      "[10 rows x 241 columns]\n",
      "           0         1         2          3          4          5    \\\n",
      "rbd2.edf  -1.0  0.000346  0.015559   0.008938   0.006403   0.019163   \n",
      "rbd9.edf  -1.0  0.000574  0.024817   0.020892   0.026993   0.026045   \n",
      "rbd15.edf -1.0 -0.835618 -7.980219 -18.904345 -37.555782 -65.185631   \n",
      "n13.edf    1.0  0.000270 -0.000846  -0.012685  -0.023222  -0.003984   \n",
      "n10.edf    1.0  0.000470 -0.002743  -0.014561  -0.025536  -0.014658   \n",
      "rbd9.edf  -1.0 -0.001005 -0.005730  -0.022150  -0.030371  -0.012944   \n",
      "rbd19.edf -1.0 -0.001872  0.041598   0.035410   0.018890   0.022593   \n",
      "rbd22.edf -1.0  0.000639  0.033990   0.027998   0.038390   0.039732   \n",
      "n11.edf    1.0  0.000125  0.016250   0.017467   0.011904   0.002060   \n",
      "rbd18.edf -1.0  0.001405  0.054030   0.063390   0.010124  -0.019453   \n",
      "\n",
      "                 6          7          8          9    ...       231  \\\n",
      "rbd2.edf    0.019039   0.000120  -0.015615  -0.016951  ...  0.001441   \n",
      "rbd9.edf    0.009297  -0.015717  -0.030793  -0.021887  ...  0.005390   \n",
      "rbd15.edf -44.998961  26.081905  62.304282  56.762758  ... -3.769557   \n",
      "n13.edf     0.016020   0.014788   0.010221   0.004540  ... -0.017855   \n",
      "n10.edf     0.005789   0.018354   0.002787  -0.011117  ... -0.000161   \n",
      "rbd9.edf   -0.001565   0.008237   0.022891   0.021091  ...  0.003186   \n",
      "rbd19.edf   0.020549   0.008744  -0.003050  -0.032672  ...  0.006504   \n",
      "rbd22.edf   0.014647  -0.019306  -0.034878  -0.028187  ... -0.008022   \n",
      "n11.edf    -0.020427  -0.023357   0.005094   0.017988  ... -0.003477   \n",
      "rbd18.edf  -0.018066   0.016681   0.031380  -0.021295  ... -0.006570   \n",
      "\n",
      "                 232        233        234       235        236        237  \\\n",
      "rbd2.edf   -0.013804  -0.018662  -0.014255  0.009700   0.022223   0.012170   \n",
      "rbd9.edf    0.019846   0.020088   0.009148 -0.008646  -0.024580  -0.017852   \n",
      "rbd15.edf  41.100585  68.953962  49.572231 -7.378212 -64.892096 -54.804231   \n",
      "n13.edf    -0.004510   0.017018   0.016875  0.010922   0.003433  -0.021038   \n",
      "n10.edf     0.009561  -0.007186  -0.017423  0.001269   0.007706   0.017490   \n",
      "rbd9.edf   -0.024379  -0.036660  -0.018417 -0.003973   0.014605   0.040355   \n",
      "rbd19.edf   0.009425   0.021703   0.022871  0.011968  -0.001888  -0.028514   \n",
      "rbd22.edf   0.011207   0.028280   0.019590  0.006324  -0.014227  -0.032628   \n",
      "n11.edf     0.018461   0.018993   0.011489  0.005165  -0.001047  -0.024323   \n",
      "rbd18.edf  -0.013087   0.001084   0.018658  0.013930  -0.016203  -0.022621   \n",
      "\n",
      "                 238       239       240  \n",
      "rbd2.edf   -0.007128 -0.022429 -0.000927  \n",
      "rbd9.edf   -0.004940  0.004733  0.002382  \n",
      "rbd15.edf -19.581831  4.137761 -8.271444  \n",
      "n13.edf    -0.033444 -0.011830  0.000361  \n",
      "n10.edf     0.031648  0.023877 -0.002178  \n",
      "rbd9.edf    0.049633  0.038303  0.004409  \n",
      "rbd19.edf  -0.038630 -0.005366  0.002455  \n",
      "rbd22.edf  -0.032166 -0.018117  0.003288  \n",
      "n11.edf    -0.036147 -0.012068  0.004617  \n",
      "rbd18.edf  -0.005419  0.005460  0.000573  \n",
      "\n",
      "[10 rows x 241 columns]\n",
      "           0         1          2          3          4          5    \\\n",
      "n11.edf    1.0 -0.001307  -0.004957  -0.022801  -0.024438   0.003973   \n",
      "rbd4.edf  -1.0  0.000700  -0.016787  -0.035737  -0.028030   0.006478   \n",
      "n9.edf     1.0  0.074217   7.028208   5.315395   1.180123  -0.689442   \n",
      "n5.edf     1.0 -0.874915   0.176061  -1.549054 -14.304265 -18.374968   \n",
      "rbd20.edf -1.0 -2.990032 -26.122602 -31.367359 -52.003002 -89.130400   \n",
      "rbd12.edf -1.0  0.000483   0.039005   0.044523   0.030288  -0.001838   \n",
      "rbd15.edf -1.0  1.033884 -25.516412 -57.365808 -44.301656  -5.960507   \n",
      "rbd1.edf  -1.0  0.604816 -51.375703 -76.707828 -41.352833  26.276406   \n",
      "n10.edf    1.0 -0.000375  -0.000994  -0.018789  -0.025344  -0.004827   \n",
      "rbd10.edf -1.0  0.000355   0.000646   0.001008   0.000783  -0.001870   \n",
      "\n",
      "                 6          7          8          9    ...        231  \\\n",
      "n11.edf     0.019265   0.015265   0.009871   0.004574  ...  -0.002105   \n",
      "rbd4.edf    0.007322  -0.016908  -0.012208   0.003976  ...   0.046955   \n",
      "n9.edf     -1.309572  -2.077461  -3.777249  -1.479178  ...  -4.197461   \n",
      "n5.edf     -4.364322   3.399919  10.297617  14.509988  ...   7.088727   \n",
      "rbd20.edf -54.293562  27.218505  58.419155  42.655305  ...  14.777332   \n",
      "rbd12.edf  -0.023137  -0.004891  -0.005032  -0.013025  ...  -0.014237   \n",
      "rbd15.edf  35.512381  43.186469  28.842101  -4.317012  ... -14.894281   \n",
      "rbd1.edf   41.450486  36.998292  24.462099 -23.698526  ...  -1.472108   \n",
      "n10.edf     0.001649   0.008039   0.018848   0.015262  ...  -0.011687   \n",
      "rbd10.edf  -0.011587  -0.014200   0.002478   0.012169  ...  -0.009929   \n",
      "\n",
      "                 232        233        234        235        236        237  \\\n",
      "n11.edf    -0.011303  -0.026348  -0.017593   0.008850   0.018732   0.017963   \n",
      "rbd4.edf    0.051239   0.033594   0.017560  -0.017802  -0.046871  -0.046003   \n",
      "n9.edf     -2.626348   3.225312   3.745306   0.754057  -0.018380   0.631351   \n",
      "n5.edf      9.208596   3.565964  -8.706456 -17.568888  -6.481537   6.016884   \n",
      "rbd20.edf   3.780342   0.410703   9.814579  -3.536776 -29.529753 -30.776103   \n",
      "rbd12.edf  -0.023131  -0.016764   0.012782   0.022866   0.019497   0.005470   \n",
      "rbd15.edf  28.447881  53.900018  20.358945  -6.287116 -27.593360 -35.315292   \n",
      "rbd1.edf  -41.408449 -31.645214  28.476216  44.235626  15.334361 -17.451091   \n",
      "n10.edf    -0.005447   0.005740   0.014448   0.013696  -0.005188  -0.024806   \n",
      "rbd10.edf  -0.012252   0.004895   0.013883   0.009279   0.004098  -0.005210   \n",
      "\n",
      "                 238        239       240  \n",
      "n11.edf     0.018685   0.014341 -0.001062  \n",
      "rbd4.edf   -0.037336  -0.011473 -0.006947  \n",
      "n9.edf      1.583887   1.462119  0.099320  \n",
      "n5.edf     11.705221  10.947579  3.502920  \n",
      "rbd20.edf -24.489472 -28.786735  0.322372  \n",
      "rbd12.edf  -0.007862   0.009239 -0.004248  \n",
      "rbd15.edf   2.696501  24.681051 -7.248619  \n",
      "rbd1.edf  -53.894794 -59.191207 -8.936242  \n",
      "n10.edf    -0.025101  -0.015380  0.001804  \n",
      "rbd10.edf  -0.020852  -0.025857 -0.000747  \n",
      "\n",
      "[10 rows x 241 columns]\n",
      "Classes: [-1.  1.]\n"
     ]
    }
   ],
   "source": [
    "from sklearn.model_selection import train_test_split\n",
    "from sklearn.preprocessing import LabelEncoder\n",
    "import pandas as pd\n",
    "\n",
    "# Read labeled data\n",
    "labeled_df = pd.read_pickle(\"C:\\\\Users\\\\Gang Ren\\\\Research\\\\capslpdb_cleaned_ECG_data_30s.pk1.gz\")\n",
    "\n",
    "# First split: 15% for the test set and 85% for the train/validation split\n",
    "labeled_train_val_df, labeled_test_df = train_test_split(labeled_df, test_size=0.15, random_state=42)\n",
    "\n",
    "# Second split: 15% of the original data (from the 85%) for validation\n",
    "validation_ratio = 0.15 / 0.85  # Adjust to get 15% of the original dataset for validation\n",
    "labeled_train_df, labeled_val_df = train_test_split(labeled_train_val_df, test_size=validation_ratio, random_state=42)\n",
    "\n",
    "# Print dataset sizes\n",
    "print(\"Training set size:\", len(labeled_train_df))\n",
    "print(\"Validation set size:\", len(labeled_val_df))\n",
    "print(\"Test set size:\", len(labeled_test_df))\n",
    "print(labeled_train_df.head(10))\n",
    "print(labeled_val_df.head(10))\n",
    "print(labeled_test_df.head(10))\n",
    "\n",
    "# Extract features (X) and labels (y)\n",
    "labeled_x_train = labeled_train_df.drop(columns=0).values\n",
    "labeled_y_train = labeled_train_df[0].values\n",
    "\n",
    "labeled_x_val = labeled_val_df.drop(columns=0).values\n",
    "labeled_y_val = labeled_val_df[0].values\n",
    "\n",
    "labeled_x_test = labeled_test_df.drop(columns=0).values\n",
    "labeled_y_test = labeled_test_df[0].values\n",
    "\n",
    "# Encode labels\n",
    "encode_label = LabelEncoder()\n",
    "encode_label.fit(labeled_y_train)\n",
    "\n",
    "y_train = encode_label.transform(labeled_y_train)\n",
    "y_val = encode_label.transform(labeled_y_val)\n",
    "y_test = encode_label.transform(labeled_y_test)\n",
    "\n",
    "# Print to confirm encoding\n",
    "print(\"Classes:\", encode_label.classes_)"
   ]
  },
  {
   "cell_type": "code",
   "execution_count": 29,
   "id": "48046fea-31fb-4eca-ba21-a641087ca85e",
   "metadata": {},
   "outputs": [
    {
     "name": "stdout",
     "output_type": "stream",
     "text": [
      "1008\n",
      "252\n"
     ]
    }
   ],
   "source": [
    "# from sklearn.model_selection import train_test_split\n",
    "# # to read back\n",
    "# labeled_df = pd.read_pickle(\"C:\\\\Users\\\\Gang Ren\\\\Research\\\\capslpdb_cleaned_ECG_data_30s.pk1.gz\")\n",
    "\n",
    "# # print(labeled_df.head(3))\n",
    "# # print(len(labeled_df))\n",
    "\n",
    "# # labeled_train_df, labeled_test_df = train_test_split(labeled_df, test_size=0.8)\n",
    "\n",
    "# # labeled_train_df = pd.read_pickle(\"C:\\\\Users\\\\Gang Ren\\\\Research\\\\capslpdb_cleaned_ECG_data_30s_train.pk1.gz\")\n",
    "# # labeled_test_df = pd.read_pickle(\"C:\\\\Users\\\\Gang Ren\\\\Research\\\\capslpdb_cleaned_ECG_data_30s_test.pk1.gz\")\n",
    "\n",
    "# # # Shuffle randomly\n",
    "# # labeled_train_df = labeled_train_df.sample(frac=1)\n",
    "# # labeled_test_df = labeled_test_df.sample(frac=1)\n",
    "\n",
    "# print(len(labeled_train_df))\n",
    "# print(len(labeled_test_df))\n",
    "\n",
    "# labeled_x_train = labeled_train_df.drop(columns=0).values\n",
    "# labeled_y_train = labeled_train_df[0].values\n",
    "\n",
    "# labeled_x_test = labeled_test_df.drop(columns=0).values\n",
    "# labeled_y_test = labeled_test_df[0].values\n",
    "\n",
    "# # Class for y\n",
    "# encode_label = LabelEncoder()\n",
    "# encode_label.fit(labeled_y_train)\n",
    "# y_train = encode_label.transform(labeled_y_train)\n",
    "# y_test = encode_label.transform(labeled_y_test)"
   ]
  },
  {
   "cell_type": "code",
   "execution_count": 125,
   "id": "a02adf61-a21f-4572-a8ae-3183d744deff",
   "metadata": {},
   "outputs": [],
   "source": [
    "# reshape X so that it can pass through LSTM layer\n",
    "labeled_x_train = labeled_x_train.reshape(labeled_x_train.shape[0], unlabeled_x_train.shape[1], 1)"
   ]
  },
  {
   "cell_type": "code",
   "execution_count": 127,
   "id": "6f3d5d65-b8d7-40aa-8906-f85b41e58607",
   "metadata": {},
   "outputs": [
    {
     "name": "stdout",
     "output_type": "stream",
     "text": [
      "           0         1          2          3          4          5    \\\n",
      "n14.edf    1.0 -0.001019  -0.003989  -0.011144  -0.024367  -0.017848   \n",
      "rbd9.edf  -1.0  0.000464   0.024859   0.028980   0.031372   0.023855   \n",
      "rbd6.edf  -1.0 -0.722292 -19.862607 -33.358756 -41.274398 -29.175022   \n",
      "rbd17.edf -1.0  0.000621   0.022906   0.025419   0.015780  -0.006709   \n",
      "rbd18.edf -1.0 -0.000797  -0.005220   0.029774   0.035110  -0.011650   \n",
      "rbd13.edf -1.0  0.000449  -0.058831  -0.068247  -0.026695   0.005574   \n",
      "rbd13.edf -1.0  0.000742   0.058234   0.064177   0.016494  -0.026175   \n",
      "rbd8.edf  -1.0 -0.001544  -0.016292   0.023226   0.043268   0.031524   \n",
      "rbd14.edf -1.0  0.001104   0.003973  -0.004622  -0.040996  -0.057464   \n",
      "rbd13.edf -1.0  0.001024   0.028950   0.012460   0.027456   0.035821   \n",
      "\n",
      "                 6          7          8         9    ...        231  \\\n",
      "n14.edf     0.009749   0.020341   0.014201  0.008250  ...   0.004141   \n",
      "rbd9.edf    0.008157  -0.016000  -0.033983 -0.022933  ...   0.006406   \n",
      "rbd6.edf   22.367184  51.229533  38.756210  4.564003  ...  12.888734   \n",
      "rbd17.edf  -0.020362  -0.016760  -0.014376  0.004694  ...   0.026007   \n",
      "rbd18.edf  -0.023951  -0.014507  -0.001316  0.019436  ...   0.021158   \n",
      "rbd13.edf   0.041623   0.056487   0.020432 -0.017231  ...   0.045571   \n",
      "rbd13.edf  -0.025179  -0.007409   0.013161  0.003440  ...   0.026239   \n",
      "rbd8.edf    0.018955   0.004439  -0.024901 -0.039482  ...  -0.052660   \n",
      "rbd14.edf  -0.017914   0.005491   0.013317  0.035260  ...   0.000996   \n",
      "rbd13.edf  -0.005431  -0.034480  -0.030172 -0.015190  ...  -0.001907   \n",
      "\n",
      "                 232        233        234       235        236        237  \\\n",
      "n14.edf     0.022283   0.017482   0.006583  0.001108  -0.007853  -0.022520   \n",
      "rbd9.edf   -0.022204  -0.035561  -0.017733 -0.005606   0.015313   0.039493   \n",
      "rbd6.edf   50.861986  45.549225  20.583386 -7.996941 -32.133533 -47.381663   \n",
      "rbd17.edf   0.017108  -0.005672  -0.020452 -0.017816  -0.015537   0.003473   \n",
      "rbd18.edf  -0.000552  -0.026164  -0.026224 -0.014278   0.022839   0.049818   \n",
      "rbd13.edf   0.020038  -0.002190   0.016175  0.000155  -0.002691   0.013379   \n",
      "rbd13.edf   0.040514   0.011197  -0.024251 -0.024398   0.000239   0.014040   \n",
      "rbd8.edf   -0.049522  -0.008840   0.023594  0.025598   0.026022   0.026006   \n",
      "rbd14.edf  -0.031688  -0.059488  -0.026953  0.005102   0.026990   0.046763   \n",
      "rbd13.edf   0.006643   0.029708   0.042069  0.000555  -0.040393  -0.036872   \n",
      "\n",
      "                 238       239       240  \n",
      "n14.edf    -0.011965  0.003848 -0.001438  \n",
      "rbd9.edf    0.045793  0.036014  0.001205  \n",
      "rbd6.edf  -37.041549 -1.792789 -1.539197  \n",
      "rbd17.edf   0.019447  0.014180  0.004502  \n",
      "rbd18.edf   0.020898 -0.001018  0.005364  \n",
      "rbd13.edf  -0.021744 -0.051449  0.003411  \n",
      "rbd13.edf  -0.017710 -0.046132  0.005319  \n",
      "rbd8.edf    0.036535  0.046031  0.011934  \n",
      "rbd14.edf   0.043893  0.027267 -0.005998  \n",
      "rbd13.edf  -0.006050  0.019524 -0.002238  \n",
      "\n",
      "[10 rows x 241 columns]\n",
      "           0         1          2          3          4          5    \\\n",
      "n11.edf    1.0 -0.001307  -0.004957  -0.022801  -0.024438   0.003973   \n",
      "rbd4.edf  -1.0  0.000700  -0.016787  -0.035737  -0.028030   0.006478   \n",
      "n9.edf     1.0  0.074217   7.028208   5.315395   1.180123  -0.689442   \n",
      "n5.edf     1.0 -0.874915   0.176061  -1.549054 -14.304265 -18.374968   \n",
      "rbd20.edf -1.0 -2.990032 -26.122602 -31.367359 -52.003002 -89.130400   \n",
      "rbd12.edf -1.0  0.000483   0.039005   0.044523   0.030288  -0.001838   \n",
      "rbd15.edf -1.0  1.033884 -25.516412 -57.365808 -44.301656  -5.960507   \n",
      "rbd1.edf  -1.0  0.604816 -51.375703 -76.707828 -41.352833  26.276406   \n",
      "n10.edf    1.0 -0.000375  -0.000994  -0.018789  -0.025344  -0.004827   \n",
      "rbd10.edf -1.0  0.000355   0.000646   0.001008   0.000783  -0.001870   \n",
      "\n",
      "                 6          7          8          9    ...        231  \\\n",
      "n11.edf     0.019265   0.015265   0.009871   0.004574  ...  -0.002105   \n",
      "rbd4.edf    0.007322  -0.016908  -0.012208   0.003976  ...   0.046955   \n",
      "n9.edf     -1.309572  -2.077461  -3.777249  -1.479178  ...  -4.197461   \n",
      "n5.edf     -4.364322   3.399919  10.297617  14.509988  ...   7.088727   \n",
      "rbd20.edf -54.293562  27.218505  58.419155  42.655305  ...  14.777332   \n",
      "rbd12.edf  -0.023137  -0.004891  -0.005032  -0.013025  ...  -0.014237   \n",
      "rbd15.edf  35.512381  43.186469  28.842101  -4.317012  ... -14.894281   \n",
      "rbd1.edf   41.450486  36.998292  24.462099 -23.698526  ...  -1.472108   \n",
      "n10.edf     0.001649   0.008039   0.018848   0.015262  ...  -0.011687   \n",
      "rbd10.edf  -0.011587  -0.014200   0.002478   0.012169  ...  -0.009929   \n",
      "\n",
      "                 232        233        234        235        236        237  \\\n",
      "n11.edf    -0.011303  -0.026348  -0.017593   0.008850   0.018732   0.017963   \n",
      "rbd4.edf    0.051239   0.033594   0.017560  -0.017802  -0.046871  -0.046003   \n",
      "n9.edf     -2.626348   3.225312   3.745306   0.754057  -0.018380   0.631351   \n",
      "n5.edf      9.208596   3.565964  -8.706456 -17.568888  -6.481537   6.016884   \n",
      "rbd20.edf   3.780342   0.410703   9.814579  -3.536776 -29.529753 -30.776103   \n",
      "rbd12.edf  -0.023131  -0.016764   0.012782   0.022866   0.019497   0.005470   \n",
      "rbd15.edf  28.447881  53.900018  20.358945  -6.287116 -27.593360 -35.315292   \n",
      "rbd1.edf  -41.408449 -31.645214  28.476216  44.235626  15.334361 -17.451091   \n",
      "n10.edf    -0.005447   0.005740   0.014448   0.013696  -0.005188  -0.024806   \n",
      "rbd10.edf  -0.012252   0.004895   0.013883   0.009279   0.004098  -0.005210   \n",
      "\n",
      "                 238        239       240  \n",
      "n11.edf     0.018685   0.014341 -0.001062  \n",
      "rbd4.edf   -0.037336  -0.011473 -0.006947  \n",
      "n9.edf      1.583887   1.462119  0.099320  \n",
      "n5.edf     11.705221  10.947579  3.502920  \n",
      "rbd20.edf -24.489472 -28.786735  0.322372  \n",
      "rbd12.edf  -0.007862   0.009239 -0.004248  \n",
      "rbd15.edf   2.696501  24.681051 -7.248619  \n",
      "rbd1.edf  -53.894794 -59.191207 -8.936242  \n",
      "n10.edf    -0.025101  -0.015380  0.001804  \n",
      "rbd10.edf  -0.020852  -0.025857 -0.000747  \n",
      "\n",
      "[10 rows x 241 columns]\n",
      "[[-1.30671231e-03 -4.95744850e-03 -2.28005082e-02 ...  1.86847719e-02\n",
      "   1.43412855e-02 -1.06222784e-03]\n",
      " [ 7.00117852e-04 -1.67865518e-02 -3.57374828e-02 ... -3.73359479e-02\n",
      "  -1.14734668e-02 -6.94660716e-03]\n",
      " [ 7.42172760e-02  7.02820804e+00  5.31539502e+00 ...  1.58388739e+00\n",
      "   1.46211947e+00  9.93202946e-02]\n",
      " ...\n",
      " [ 8.55031390e-01  5.58826481e+01  5.15781554e+01 ...  1.02194667e+02\n",
      "   7.77449894e+01 -1.72888304e+00]\n",
      " [-1.37937073e+00 -2.52292278e+01 -3.20708002e+01 ... -1.16079707e+01\n",
      "  -2.06541679e+01 -3.00001924e+00]\n",
      " [-1.82412962e-02 -8.98910829e-01 -1.51299421e+00 ... -1.30679349e+00\n",
      "   2.40854340e-01  2.27632722e-01]]\n",
      "[1 0 1 1 0 0 0 0 1 0 1 0 0 0 1 0 1 1 1 1 1 1 0 0 1 1 1 0 0 0 1 0 0 0 0 0 1\n",
      " 1 0 0 0 0 0 0 0 1 1 0 0 1 0 1 0 0 0 0 1 0 0 0 0 0 0 0 1 0 0 0 0 0 0 0 1 0\n",
      " 0 0 1 0 0 0 0 0 1 0 0 1 0 1 1 0 0 0 0 0 0 1 0 1 0 1 0 1 0 0 0 0 1 0 1 0 0\n",
      " 1 1 1 0 0 0 1 1 1 0 1 1 0 1 0 0 0 1 0 1 1 0 0 1 1 1 1 1 0 0 0 0 0 1 0 1 0\n",
      " 1 1 0 0 0 1 0 0 1 1 1 0 0 1 1 0 0 0 1 1 1 0 0 0 1 0 0 0 0 0 0 0 0 0 1 1 0\n",
      " 0 0 0 0 0 1 0 0 1 1 0 0 0 1 1 1 0 0 0 0 1 0 0 0 0 0 0 0 0 1]\n"
     ]
    }
   ],
   "source": [
    "print(labeled_train_df.head(10))\n",
    "print(labeled_test_df.head(10))\n",
    "print(labeled_x_test)\n",
    "print(y_test)"
   ]
  },
  {
   "cell_type": "code",
   "execution_count": 129,
   "id": "8b569eac-7a72-4d1b-93d7-b0dbac039f84",
   "metadata": {},
   "outputs": [
    {
     "name": "stdout",
     "output_type": "stream",
     "text": [
      "Shape of labeled_x_train: (998, 240, 1)\n",
      "Shape of y_train: (998,)\n"
     ]
    }
   ],
   "source": [
    "print(f\"Shape of labeled_x_train: {labeled_x_train.shape}\")\n",
    "print(f\"Shape of y_train: {y_train.shape}\")\n"
   ]
  },
  {
   "cell_type": "code",
   "execution_count": 131,
   "id": "00b2be09-acf1-4e7b-9f5b-5aafecc0a3c2",
   "metadata": {},
   "outputs": [
    {
     "name": "stdout",
     "output_type": "stream",
     "text": [
      "Epoch 1/30\n",
      "\u001b[1m125/125\u001b[0m \u001b[32m━━━━━━━━━━━━━━━━━━━━\u001b[0m\u001b[37m\u001b[0m \u001b[1m18s\u001b[0m 89ms/step - accuracy: 0.7716 - loss: 0.4775 - val_accuracy: 0.7628 - val_loss: 0.5103\n",
      "Epoch 2/30\n",
      "\u001b[1m125/125\u001b[0m \u001b[32m━━━━━━━━━━━━━━━━━━━━\u001b[0m\u001b[37m\u001b[0m \u001b[1m10s\u001b[0m 83ms/step - accuracy: 0.7211 - loss: 0.5469 - val_accuracy: 0.7488 - val_loss: 0.5333\n",
      "Epoch 3/30\n",
      "\u001b[1m125/125\u001b[0m \u001b[32m━━━━━━━━━━━━━━━━━━━━\u001b[0m\u001b[37m\u001b[0m \u001b[1m10s\u001b[0m 79ms/step - accuracy: 0.7745 - loss: 0.4824 - val_accuracy: 0.7628 - val_loss: 0.4958\n",
      "Epoch 4/30\n",
      "\u001b[1m125/125\u001b[0m \u001b[32m━━━━━━━━━━━━━━━━━━━━\u001b[0m\u001b[37m\u001b[0m \u001b[1m11s\u001b[0m 85ms/step - accuracy: 0.7610 - loss: 0.4764 - val_accuracy: 0.7767 - val_loss: 0.4656\n",
      "Epoch 5/30\n",
      "\u001b[1m125/125\u001b[0m \u001b[32m━━━━━━━━━━━━━━━━━━━━\u001b[0m\u001b[37m\u001b[0m \u001b[1m11s\u001b[0m 89ms/step - accuracy: 0.7820 - loss: 0.4397 - val_accuracy: 0.7814 - val_loss: 0.4544\n",
      "Epoch 6/30\n",
      "\u001b[1m125/125\u001b[0m \u001b[32m━━━━━━━━━━━━━━━━━━━━\u001b[0m\u001b[37m\u001b[0m \u001b[1m11s\u001b[0m 88ms/step - accuracy: 0.7899 - loss: 0.4300 - val_accuracy: 0.5116 - val_loss: 0.9625\n",
      "Epoch 7/30\n",
      "\u001b[1m125/125\u001b[0m \u001b[32m━━━━━━━━━━━━━━━━━━━━\u001b[0m\u001b[37m\u001b[0m \u001b[1m11s\u001b[0m 89ms/step - accuracy: 0.6845 - loss: 0.5451 - val_accuracy: 0.7907 - val_loss: 0.4321\n",
      "Epoch 8/30\n",
      "\u001b[1m125/125\u001b[0m \u001b[32m━━━━━━━━━━━━━━━━━━━━\u001b[0m\u001b[37m\u001b[0m \u001b[1m11s\u001b[0m 89ms/step - accuracy: 0.7891 - loss: 0.4137 - val_accuracy: 0.7860 - val_loss: 0.4295\n",
      "Epoch 9/30\n",
      "\u001b[1m125/125\u001b[0m \u001b[32m━━━━━━━━━━━━━━━━━━━━\u001b[0m\u001b[37m\u001b[0m \u001b[1m11s\u001b[0m 86ms/step - accuracy: 0.8129 - loss: 0.4002 - val_accuracy: 0.8140 - val_loss: 0.4113\n",
      "Epoch 10/30\n",
      "\u001b[1m125/125\u001b[0m \u001b[32m━━━━━━━━━━━━━━━━━━━━\u001b[0m\u001b[37m\u001b[0m \u001b[1m11s\u001b[0m 90ms/step - accuracy: 0.8035 - loss: 0.4015 - val_accuracy: 0.8047 - val_loss: 0.4092\n",
      "Epoch 11/30\n",
      "\u001b[1m125/125\u001b[0m \u001b[32m━━━━━━━━━━━━━━━━━━━━\u001b[0m\u001b[37m\u001b[0m \u001b[1m11s\u001b[0m 88ms/step - accuracy: 0.8205 - loss: 0.3831 - val_accuracy: 0.7163 - val_loss: 0.5737\n",
      "Epoch 12/30\n",
      "\u001b[1m125/125\u001b[0m \u001b[32m━━━━━━━━━━━━━━━━━━━━\u001b[0m\u001b[37m\u001b[0m \u001b[1m11s\u001b[0m 87ms/step - accuracy: 0.7733 - loss: 0.4505 - val_accuracy: 0.7302 - val_loss: 0.4976\n",
      "Epoch 13/30\n",
      "\u001b[1m125/125\u001b[0m \u001b[32m━━━━━━━━━━━━━━━━━━━━\u001b[0m\u001b[37m\u001b[0m \u001b[1m11s\u001b[0m 89ms/step - accuracy: 0.7475 - loss: 0.4937 - val_accuracy: 0.7721 - val_loss: 0.4550\n",
      "Epoch 14/30\n",
      "\u001b[1m125/125\u001b[0m \u001b[32m━━━━━━━━━━━━━━━━━━━━\u001b[0m\u001b[37m\u001b[0m \u001b[1m12s\u001b[0m 92ms/step - accuracy: 0.7834 - loss: 0.4482 - val_accuracy: 0.7628 - val_loss: 0.4680\n",
      "Epoch 15/30\n",
      "\u001b[1m125/125\u001b[0m \u001b[32m━━━━━━━━━━━━━━━━━━━━\u001b[0m\u001b[37m\u001b[0m \u001b[1m11s\u001b[0m 89ms/step - accuracy: 0.7915 - loss: 0.4234 - val_accuracy: 0.7721 - val_loss: 0.4494\n",
      "Epoch 16/30\n",
      "\u001b[1m125/125\u001b[0m \u001b[32m━━━━━━━━━━━━━━━━━━━━\u001b[0m\u001b[37m\u001b[0m \u001b[1m11s\u001b[0m 91ms/step - accuracy: 0.8099 - loss: 0.4108 - val_accuracy: 0.8093 - val_loss: 0.4432\n",
      "Epoch 17/30\n",
      "\u001b[1m125/125\u001b[0m \u001b[32m━━━━━━━━━━━━━━━━━━━━\u001b[0m\u001b[37m\u001b[0m \u001b[1m11s\u001b[0m 90ms/step - accuracy: 0.8092 - loss: 0.3862 - val_accuracy: 0.7535 - val_loss: 0.4212\n",
      "Epoch 18/30\n",
      "\u001b[1m125/125\u001b[0m \u001b[32m━━━━━━━━━━━━━━━━━━━━\u001b[0m\u001b[37m\u001b[0m \u001b[1m12s\u001b[0m 93ms/step - accuracy: 0.7751 - loss: 0.3975 - val_accuracy: 0.8140 - val_loss: 0.4037\n",
      "Epoch 19/30\n",
      "\u001b[1m125/125\u001b[0m \u001b[32m━━━━━━━━━━━━━━━━━━━━\u001b[0m\u001b[37m\u001b[0m \u001b[1m11s\u001b[0m 88ms/step - accuracy: 0.8102 - loss: 0.3937 - val_accuracy: 0.7442 - val_loss: 0.4250\n",
      "Epoch 20/30\n",
      "\u001b[1m125/125\u001b[0m \u001b[32m━━━━━━━━━━━━━━━━━━━━\u001b[0m\u001b[37m\u001b[0m \u001b[1m12s\u001b[0m 92ms/step - accuracy: 0.8078 - loss: 0.3896 - val_accuracy: 0.7674 - val_loss: 0.4155\n",
      "Epoch 21/30\n",
      "\u001b[1m125/125\u001b[0m \u001b[32m━━━━━━━━━━━━━━━━━━━━\u001b[0m\u001b[37m\u001b[0m \u001b[1m11s\u001b[0m 90ms/step - accuracy: 0.8135 - loss: 0.3788 - val_accuracy: 0.7907 - val_loss: 0.4108\n",
      "Epoch 22/30\n",
      "\u001b[1m125/125\u001b[0m \u001b[32m━━━━━━━━━━━━━━━━━━━━\u001b[0m\u001b[37m\u001b[0m \u001b[1m11s\u001b[0m 89ms/step - accuracy: 0.8434 - loss: 0.3481 - val_accuracy: 0.7767 - val_loss: 0.4069\n",
      "Epoch 23/30\n",
      "\u001b[1m125/125\u001b[0m \u001b[32m━━━━━━━━━━━━━━━━━━━━\u001b[0m\u001b[37m\u001b[0m \u001b[1m12s\u001b[0m 92ms/step - accuracy: 0.8125 - loss: 0.3666 - val_accuracy: 0.7907 - val_loss: 0.4274\n",
      "Epoch 24/30\n",
      "\u001b[1m125/125\u001b[0m \u001b[32m━━━━━━━━━━━━━━━━━━━━\u001b[0m\u001b[37m\u001b[0m \u001b[1m12s\u001b[0m 93ms/step - accuracy: 0.8063 - loss: 0.3808 - val_accuracy: 0.7907 - val_loss: 0.4119\n",
      "Epoch 25/30\n",
      "\u001b[1m125/125\u001b[0m \u001b[32m━━━━━━━━━━━━━━━━━━━━\u001b[0m\u001b[37m\u001b[0m \u001b[1m11s\u001b[0m 90ms/step - accuracy: 0.8119 - loss: 0.3893 - val_accuracy: 0.8326 - val_loss: 0.3974\n",
      "Epoch 26/30\n",
      "\u001b[1m125/125\u001b[0m \u001b[32m━━━━━━━━━━━━━━━━━━━━\u001b[0m\u001b[37m\u001b[0m \u001b[1m11s\u001b[0m 91ms/step - accuracy: 0.8185 - loss: 0.3771 - val_accuracy: 0.7860 - val_loss: 0.4238\n",
      "Epoch 27/30\n",
      "\u001b[1m125/125\u001b[0m \u001b[32m━━━━━━━━━━━━━━━━━━━━\u001b[0m\u001b[37m\u001b[0m \u001b[1m11s\u001b[0m 90ms/step - accuracy: 0.7993 - loss: 0.3791 - val_accuracy: 0.7860 - val_loss: 0.3976\n",
      "Epoch 28/30\n",
      "\u001b[1m125/125\u001b[0m \u001b[32m━━━━━━━━━━━━━━━━━━━━\u001b[0m\u001b[37m\u001b[0m \u001b[1m11s\u001b[0m 91ms/step - accuracy: 0.8322 - loss: 0.3656 - val_accuracy: 0.7674 - val_loss: 0.4636\n",
      "Epoch 29/30\n",
      "\u001b[1m125/125\u001b[0m \u001b[32m━━━━━━━━━━━━━━━━━━━━\u001b[0m\u001b[37m\u001b[0m \u001b[1m11s\u001b[0m 89ms/step - accuracy: 0.8156 - loss: 0.3853 - val_accuracy: 0.8233 - val_loss: 0.3900\n",
      "Epoch 30/30\n",
      "\u001b[1m125/125\u001b[0m \u001b[32m━━━━━━━━━━━━━━━━━━━━\u001b[0m\u001b[37m\u001b[0m \u001b[1m12s\u001b[0m 93ms/step - accuracy: 0.8114 - loss: 0.3596 - val_accuracy: 0.8093 - val_loss: 0.3886\n"
     ]
    },
    {
     "data": {
      "image/png": "[encoded data removed]",
      "text/plain": [
       "<Figure size 640x480 with 1 Axes>"
      ]
     },
     "metadata": {},
     "output_type": "display_data"
    },
    {
     "data": {
      "image/png": "[encoded data removed]",
      "text/plain": [
       "<Figure size 640x480 with 1 Axes>"
      ]
     },
     "metadata": {},
     "output_type": "display_data"
    }
   ],
   "source": [
    "predictive_model.compile(optimizer='adam', loss='binary_crossentropy', metrics=[\"accuracy\"])\n",
    "model_history = predictive_model.fit(\n",
    "    labeled_x_train, \n",
    "    y_train, \n",
    "    epochs=30, \n",
    "    batch_size=8, \n",
    "    verbose=1,\n",
    "    validation_data=(labeled_x_val, y_val)  # Include validation data here\n",
    ")\n",
    "plot_history(model_history, loss=True, validation=True)\n",
    "plot_history(model_history, loss=False, validation=True)"
   ]
  },
  {
   "cell_type": "code",
   "execution_count": 133,
   "id": "93938791-9a96-4917-a9f0-84ea662f408b",
   "metadata": {
    "editable": true,
    "slideshow": {
     "slide_type": ""
    },
    "tags": []
   },
   "outputs": [],
   "source": [
    "predictive_model.save('semi_supervised_lstm_30epochs_70_15_15split_cfs.keras')"
   ]
  },
  {
   "cell_type": "code",
   "execution_count": 135,
   "id": "ea551296-990b-4bac-b2b9-9233246fd75f",
   "metadata": {},
   "outputs": [
    {
     "name": "stdout",
     "output_type": "stream",
     "text": [
      "215\n",
      "WARNING:tensorflow:5 out of the last 17 calls to <function TensorFlowTrainer.make_predict_function.<locals>.one_step_on_data_distributed at 0x0000018AC1547240> triggered tf.function retracing. Tracing is expensive and the excessive number of tracings could be due to (1) creating @tf.function repeatedly in a loop, (2) passing tensors with different shapes, (3) passing Python objects instead of tensors. For (1), please define your @tf.function outside of the loop. For (2), @tf.function has reduce_retracing=True option that can avoid unnecessary retracing. For (3), please refer to https://www.tensorflow.org/guide/function#controlling_retracing and https://www.tensorflow.org/api_docs/python/tf/function for  more details.\n",
      "\u001b[1m7/7\u001b[0m \u001b[32m━━━━━━━━━━━━━━━━━━━━\u001b[0m\u001b[37m\u001b[0m \u001b[1m2s\u001b[0m 144ms/step\n",
      "[0 0 1 1 0 0 0 0 0 0 1 0 0 0 1 0 0 0 1 0 0 1 0 0 0 1 0 0 0 0 0 0 0 0 0 0 0\n",
      " 0 0 0 0 0 0 0 0 1 1 0 0 1 0 0 0 0 0 0 1 0 0 0 0 0 0 0 0 0 0 0 0 0 0 0 0 0\n",
      " 0 0 0 0 0 0 0 0 1 0 0 1 0 0 1 0 0 0 0 0 0 1 0 0 0 1 0 0 0 0 0 0 1 0 0 0 0\n",
      " 1 0 0 0 0 0 0 1 1 0 0 1 0 0 0 0 0 1 0 1 1 0 0 1 1 1 0 1 0 0 0 0 0 1 0 1 0\n",
      " 0 0 0 0 0 0 0 0 1 1 0 0 0 1 1 0 0 0 1 0 1 0 0 0 0 0 0 0 0 0 0 0 0 0 1 1 0\n",
      " 0 0 0 0 0 1 0 0 1 0 0 0 0 1 0 1 0 0 0 0 1 0 0 0 0 0 0 0 0 1]\n",
      "Test Accuracy: 84.65116279069768%\n",
      "Test F1 Score: 84.7%\n"
     ]
    }
   ],
   "source": [
    "print(len(labeled_x_test))\n",
    "pred_test = predictive_model.predict(labeled_x_test)\n",
    "pred_test = np.where(pred_test > 0.5, 1,0).reshape(-1,)\n",
    "print (pred_test)\n",
    "print(f'Test Accuracy: {accuracy_score(y_test, pred_test)*100}%')\n",
    "print(f'Test F1 Score: {f1_score(y_test, pred_test, average=\"micro\")*100:.1f}%')"
   ]
  },
  {
   "cell_type": "code",
   "execution_count": 137,
   "id": "84434b1e-108f-4e8e-9fec-be913f6b1c60",
   "metadata": {
    "scrolled": true
   },
   "outputs": [
    {
     "data": {
      "image/png": "[encoded data removed]",
      "text/plain": [
       "<Figure size 640x480 with 2 Axes>"
      ]
     },
     "metadata": {},
     "output_type": "display_data"
    }
   ],
   "source": [
    "cm = confusion_matrix(y_test, pred_test)\n",
    "disp = ConfusionMatrixDisplay(confusion_matrix=cm, display_labels=[\"RBD\", \"Normal\"])\n",
    "disp.plot(cmap=plt.cm.Blues)\n",
    "plt.show()"
   ]
  },
  {
   "cell_type": "code",
   "execution_count": 139,
   "id": "fda0998a-fd29-463e-83e9-8af9cff16dd6",
   "metadata": {},
   "outputs": [
    {
     "name": "stdout",
     "output_type": "stream",
     "text": [
      "              precision    recall  f1-score   support\n",
      "\n",
      "         RBD       0.81      1.00      0.89       138\n",
      "      Normal       1.00      0.57      0.73        77\n",
      "\n",
      "    accuracy                           0.85       215\n",
      "   macro avg       0.90      0.79      0.81       215\n",
      "weighted avg       0.88      0.85      0.83       215\n",
      "\n"
     ]
    }
   ],
   "source": [
    "print(classification_report(y_test, pred_test, target_names=[\"RBD\", \"Normal\"]))"
   ]
  },
  {
   "cell_type": "code",
   "execution_count": 96,
   "id": "291d2ba3-855f-4f15-8353-2d47702da9c5",
   "metadata": {},
   "outputs": [],
   "source": [
    "# path = 'C:\\\\Users\\\\Gang Ren\\\\Research\\\\shhs\\\\polysomnography\\\\edfs\\\\shhs1\\\\shhs1-200001.edf'\n",
    "# signals, signal_header c  , header = highlevel.read_edf(path, ch_names=\"ECG\")"
   ]
  },
  {
   "cell_type": "code",
   "execution_count": null,
   "id": "0f2f4ce7-d276-4415-a32a-c5de6dd1c6dc",
   "metadata": {},
   "outputs": [],
   "source": [
    "# print(signal_headers[0]['sample_frequency'])"
   ]
  },
  {
   "cell_type": "code",
   "execution_count": 97,
   "id": "1533d82f-c040-4f82-938c-51bf0288dd87",
   "metadata": {},
   "outputs": [
    {
     "name": "stdout",
     "output_type": "stream",
     "text": [
      "[-0.00418816 -0.00392342 -0.00366312 ...  0.06456785  0.0380972\n",
      "  0.00429484]\n"
     ]
    },
    {
     "data": {
      "image/png": "[encoded data removed]",
      "text/plain": [
       "<Figure size 640x480 with 2 Axes>"
      ]
     },
     "metadata": {},
     "output_type": "display_data"
    }
   ],
   "source": [
    "# # Preprocess ECG signal\n",
    "# cleaned = nk.ecg_clean(signals[0], sampling_rate=signal_headers[0]['sample_frequency'], method=\"neurokit\")\n",
    "\n",
    "# dataframe = pd.DataFrame({\n",
    "#     \"ECG_Raw\" : signals[0],\n",
    "#     \"ECG_NeuroKit\" : cleaned\n",
    "# })\n",
    "\n",
    "# # print(cleaned)\n",
    "# # dataframe.plot(subplots=True)\n",
    "\n",
    "# dataframe.to_csv(\"test.csv\")"
   ]
  },
  {
   "cell_type": "code",
   "execution_count": null,
   "id": "cf0ee962-dfff-4e98-87b0-06e93e6d49b6",
   "metadata": {},
   "outputs": [],
   "source": []
  }
 ],
 "metadata": {
  "kernelspec": {
   "display_name": "Python 3 (ipykernel)",
   "language": "python",
   "name": "python3"
  },
  "language_info": {
   "codemirror_mode": {
    "name": "ipython",
    "version": 3
   },
   "file_extension": ".py",
   "mimetype": "text/x-python",
   "name": "python",
   "nbconvert_exporter": "python",
   "pygments_lexer": "ipython3",
   "version": "3.12.4"
  }
 },
 "nbformat": 4,
 "nbformat_minor": 5
}
